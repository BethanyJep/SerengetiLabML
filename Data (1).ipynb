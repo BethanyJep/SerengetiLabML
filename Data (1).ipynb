{
  "cells": [
    {
      "cell_type": "code",
      "source": [
        "%pip install azure-keyvault-secrets\n",
        "%pip install azure-identity\n",
        "%pip install azure-keyvault-secrets\n",
        "%pip install torch\n",
        "%pip install torchvision"
      ],
      "outputs": [
        {
          "output_type": "stream",
          "name": "stdout",
          "text": "Requirement already satisfied: azure-keyvault-secrets in /anaconda/envs/azureml_py310_sdkv2/lib/python3.10/site-packages (4.6.0)\nRequirement already satisfied: msrest>=0.6.21 in /anaconda/envs/azureml_py310_sdkv2/lib/python3.10/site-packages (from azure-keyvault-secrets) (0.7.1)\nRequirement already satisfied: azure-core<2.0.0,>=1.20.0 in /anaconda/envs/azureml_py310_sdkv2/lib/python3.10/site-packages (from azure-keyvault-secrets) (1.26.2)\nRequirement already satisfied: azure-common~=1.1 in /anaconda/envs/azureml_py310_sdkv2/lib/python3.10/site-packages (from azure-keyvault-secrets) (1.1.28)\nRequirement already satisfied: six>=1.11.0 in /anaconda/envs/azureml_py310_sdkv2/lib/python3.10/site-packages (from azure-keyvault-secrets) (1.16.0)\nRequirement already satisfied: requests>=2.18.4 in /anaconda/envs/azureml_py310_sdkv2/lib/python3.10/site-packages (from azure-core<2.0.0,>=1.20.0->azure-keyvault-secrets) (2.28.2)\nRequirement already satisfied: typing-extensions>=4.0.1 in /anaconda/envs/azureml_py310_sdkv2/lib/python3.10/site-packages (from azure-core<2.0.0,>=1.20.0->azure-keyvault-secrets) (4.4.0)\nRequirement already satisfied: requests-oauthlib>=0.5.0 in /anaconda/envs/azureml_py310_sdkv2/lib/python3.10/site-packages (from msrest>=0.6.21->azure-keyvault-secrets) (1.3.1)\nRequirement already satisfied: certifi>=2017.4.17 in /anaconda/envs/azureml_py310_sdkv2/lib/python3.10/site-packages (from msrest>=0.6.21->azure-keyvault-secrets) (2022.6.15)\nRequirement already satisfied: isodate>=0.6.0 in /anaconda/envs/azureml_py310_sdkv2/lib/python3.10/site-packages (from msrest>=0.6.21->azure-keyvault-secrets) (0.6.1)\nRequirement already satisfied: urllib3<1.27,>=1.21.1 in /anaconda/envs/azureml_py310_sdkv2/lib/python3.10/site-packages (from requests>=2.18.4->azure-core<2.0.0,>=1.20.0->azure-keyvault-secrets) (1.26.14)\nRequirement already satisfied: idna<4,>=2.5 in /anaconda/envs/azureml_py310_sdkv2/lib/python3.10/site-packages (from requests>=2.18.4->azure-core<2.0.0,>=1.20.0->azure-keyvault-secrets) (3.4)\nRequirement already satisfied: charset-normalizer<4,>=2 in /anaconda/envs/azureml_py310_sdkv2/lib/python3.10/site-packages (from requests>=2.18.4->azure-core<2.0.0,>=1.20.0->azure-keyvault-secrets) (3.0.1)\nRequirement already satisfied: oauthlib>=3.0.0 in /anaconda/envs/azureml_py310_sdkv2/lib/python3.10/site-packages (from requests-oauthlib>=0.5.0->msrest>=0.6.21->azure-keyvault-secrets) (3.2.2)\nNote: you may need to restart the kernel to use updated packages.\nRequirement already satisfied: azure-identity in /anaconda/envs/azureml_py310_sdkv2/lib/python3.10/site-packages (1.12.0)\nRequirement already satisfied: azure-core<2.0.0,>=1.11.0 in /anaconda/envs/azureml_py310_sdkv2/lib/python3.10/site-packages (from azure-identity) (1.26.2)\nRequirement already satisfied: cryptography>=2.5 in /anaconda/envs/azureml_py310_sdkv2/lib/python3.10/site-packages (from azure-identity) (39.0.0)\nRequirement already satisfied: msal<2.0.0,>=1.12.0 in /anaconda/envs/azureml_py310_sdkv2/lib/python3.10/site-packages (from azure-identity) (1.20.0)\nRequirement already satisfied: six>=1.12.0 in /anaconda/envs/azureml_py310_sdkv2/lib/python3.10/site-packages (from azure-identity) (1.16.0)\nRequirement already satisfied: msal-extensions<2.0.0,>=0.3.0 in /anaconda/envs/azureml_py310_sdkv2/lib/python3.10/site-packages (from azure-identity) (1.0.0)\nRequirement already satisfied: typing-extensions>=4.0.1 in /anaconda/envs/azureml_py310_sdkv2/lib/python3.10/site-packages (from azure-core<2.0.0,>=1.11.0->azure-identity) (4.4.0)\nRequirement already satisfied: requests>=2.18.4 in /anaconda/envs/azureml_py310_sdkv2/lib/python3.10/site-packages (from azure-core<2.0.0,>=1.11.0->azure-identity) (2.28.2)\nRequirement already satisfied: cffi>=1.12 in /anaconda/envs/azureml_py310_sdkv2/lib/python3.10/site-packages (from cryptography>=2.5->azure-identity) (1.15.1)\nRequirement already satisfied: PyJWT[crypto]<3,>=1.0.0 in /anaconda/envs/azureml_py310_sdkv2/lib/python3.10/site-packages (from msal<2.0.0,>=1.12.0->azure-identity) (2.6.0)\nRequirement already satisfied: portalocker<3,>=1.0 in /anaconda/envs/azureml_py310_sdkv2/lib/python3.10/site-packages (from msal-extensions<2.0.0,>=0.3.0->azure-identity) (2.7.0)\nRequirement already satisfied: pycparser in /anaconda/envs/azureml_py310_sdkv2/lib/python3.10/site-packages (from cffi>=1.12->cryptography>=2.5->azure-identity) (2.21)\nRequirement already satisfied: urllib3<1.27,>=1.21.1 in /anaconda/envs/azureml_py310_sdkv2/lib/python3.10/site-packages (from requests>=2.18.4->azure-core<2.0.0,>=1.11.0->azure-identity) (1.26.14)\nRequirement already satisfied: charset-normalizer<4,>=2 in /anaconda/envs/azureml_py310_sdkv2/lib/python3.10/site-packages (from requests>=2.18.4->azure-core<2.0.0,>=1.11.0->azure-identity) (3.0.1)\nRequirement already satisfied: idna<4,>=2.5 in /anaconda/envs/azureml_py310_sdkv2/lib/python3.10/site-packages (from requests>=2.18.4->azure-core<2.0.0,>=1.11.0->azure-identity) (3.4)\nRequirement already satisfied: certifi>=2017.4.17 in /anaconda/envs/azureml_py310_sdkv2/lib/python3.10/site-packages (from requests>=2.18.4->azure-core<2.0.0,>=1.11.0->azure-identity) (2022.6.15)\nNote: you may need to restart the kernel to use updated packages.\nRequirement already satisfied: azure-keyvault-secrets in /anaconda/envs/azureml_py310_sdkv2/lib/python3.10/site-packages (4.6.0)\nRequirement already satisfied: six>=1.11.0 in /anaconda/envs/azureml_py310_sdkv2/lib/python3.10/site-packages (from azure-keyvault-secrets) (1.16.0)\nRequirement already satisfied: azure-common~=1.1 in /anaconda/envs/azureml_py310_sdkv2/lib/python3.10/site-packages (from azure-keyvault-secrets) (1.1.28)\nRequirement already satisfied: azure-core<2.0.0,>=1.20.0 in /anaconda/envs/azureml_py310_sdkv2/lib/python3.10/site-packages (from azure-keyvault-secrets) (1.26.2)\nRequirement already satisfied: msrest>=0.6.21 in /anaconda/envs/azureml_py310_sdkv2/lib/python3.10/site-packages (from azure-keyvault-secrets) (0.7.1)\nRequirement already satisfied: typing-extensions>=4.0.1 in /anaconda/envs/azureml_py310_sdkv2/lib/python3.10/site-packages (from azure-core<2.0.0,>=1.20.0->azure-keyvault-secrets) (4.4.0)\nRequirement already satisfied: requests>=2.18.4 in /anaconda/envs/azureml_py310_sdkv2/lib/python3.10/site-packages (from azure-core<2.0.0,>=1.20.0->azure-keyvault-secrets) (2.28.2)\nRequirement already satisfied: certifi>=2017.4.17 in /anaconda/envs/azureml_py310_sdkv2/lib/python3.10/site-packages (from msrest>=0.6.21->azure-keyvault-secrets) (2022.6.15)\nRequirement already satisfied: requests-oauthlib>=0.5.0 in /anaconda/envs/azureml_py310_sdkv2/lib/python3.10/site-packages (from msrest>=0.6.21->azure-keyvault-secrets) (1.3.1)\nRequirement already satisfied: isodate>=0.6.0 in /anaconda/envs/azureml_py310_sdkv2/lib/python3.10/site-packages (from msrest>=0.6.21->azure-keyvault-secrets) (0.6.1)\nRequirement already satisfied: urllib3<1.27,>=1.21.1 in /anaconda/envs/azureml_py310_sdkv2/lib/python3.10/site-packages (from requests>=2.18.4->azure-core<2.0.0,>=1.20.0->azure-keyvault-secrets) (1.26.14)\nRequirement already satisfied: charset-normalizer<4,>=2 in /anaconda/envs/azureml_py310_sdkv2/lib/python3.10/site-packages (from requests>=2.18.4->azure-core<2.0.0,>=1.20.0->azure-keyvault-secrets) (3.0.1)\nRequirement already satisfied: idna<4,>=2.5 in /anaconda/envs/azureml_py310_sdkv2/lib/python3.10/site-packages (from requests>=2.18.4->azure-core<2.0.0,>=1.20.0->azure-keyvault-secrets) (3.4)\nRequirement already satisfied: oauthlib>=3.0.0 in /anaconda/envs/azureml_py310_sdkv2/lib/python3.10/site-packages (from requests-oauthlib>=0.5.0->msrest>=0.6.21->azure-keyvault-secrets) (3.2.2)\nNote: you may need to restart the kernel to use updated packages.\nRequirement already satisfied: torch in /anaconda/envs/azureml_py310_sdkv2/lib/python3.10/site-packages (1.13.1)\nRequirement already satisfied: typing-extensions in /anaconda/envs/azureml_py310_sdkv2/lib/python3.10/site-packages (from torch) (4.4.0)\nRequirement already satisfied: nvidia-cuda-nvrtc-cu11==11.7.99 in /anaconda/envs/azureml_py310_sdkv2/lib/python3.10/site-packages (from torch) (11.7.99)\nRequirement already satisfied: nvidia-cublas-cu11==11.10.3.66 in /anaconda/envs/azureml_py310_sdkv2/lib/python3.10/site-packages (from torch) (11.10.3.66)\nRequirement already satisfied: nvidia-cuda-runtime-cu11==11.7.99 in /anaconda/envs/azureml_py310_sdkv2/lib/python3.10/site-packages (from torch) (11.7.99)\nRequirement already satisfied: nvidia-cudnn-cu11==8.5.0.96 in /anaconda/envs/azureml_py310_sdkv2/lib/python3.10/site-packages (from torch) (8.5.0.96)\nRequirement already satisfied: setuptools in /anaconda/envs/azureml_py310_sdkv2/lib/python3.10/site-packages (from nvidia-cublas-cu11==11.10.3.66->torch) (65.6.3)\nRequirement already satisfied: wheel in /anaconda/envs/azureml_py310_sdkv2/lib/python3.10/site-packages (from nvidia-cublas-cu11==11.10.3.66->torch) (0.37.1)\nNote: you may need to restart the kernel to use updated packages.\nRequirement already satisfied: torchvision in /anaconda/envs/azureml_py310_sdkv2/lib/python3.10/site-packages (0.14.1)\nRequirement already satisfied: torch==1.13.1 in /anaconda/envs/azureml_py310_sdkv2/lib/python3.10/site-packages (from torchvision) (1.13.1)\nRequirement already satisfied: numpy in /anaconda/envs/azureml_py310_sdkv2/lib/python3.10/site-packages (from torchvision) (1.24.1)\nRequirement already satisfied: requests in /anaconda/envs/azureml_py310_sdkv2/lib/python3.10/site-packages (from torchvision) (2.28.2)\nRequirement already satisfied: pillow!=8.3.*,>=5.3.0 in /anaconda/envs/azureml_py310_sdkv2/lib/python3.10/site-packages (from torchvision) (9.4.0)\nRequirement already satisfied: typing-extensions in /anaconda/envs/azureml_py310_sdkv2/lib/python3.10/site-packages (from torchvision) (4.4.0)\nRequirement already satisfied: nvidia-cuda-runtime-cu11==11.7.99 in /anaconda/envs/azureml_py310_sdkv2/lib/python3.10/site-packages (from torch==1.13.1->torchvision) (11.7.99)\nRequirement already satisfied: nvidia-cudnn-cu11==8.5.0.96 in /anaconda/envs/azureml_py310_sdkv2/lib/python3.10/site-packages (from torch==1.13.1->torchvision) (8.5.0.96)\nRequirement already satisfied: nvidia-cublas-cu11==11.10.3.66 in /anaconda/envs/azureml_py310_sdkv2/lib/python3.10/site-packages (from torch==1.13.1->torchvision) (11.10.3.66)\nRequirement already satisfied: nvidia-cuda-nvrtc-cu11==11.7.99 in /anaconda/envs/azureml_py310_sdkv2/lib/python3.10/site-packages (from torch==1.13.1->torchvision) (11.7.99)\nRequirement already satisfied: wheel in /anaconda/envs/azureml_py310_sdkv2/lib/python3.10/site-packages (from nvidia-cublas-cu11==11.10.3.66->torch==1.13.1->torchvision) (0.37.1)\nRequirement already satisfied: setuptools in /anaconda/envs/azureml_py310_sdkv2/lib/python3.10/site-packages (from nvidia-cublas-cu11==11.10.3.66->torch==1.13.1->torchvision) (65.6.3)\nRequirement already satisfied: charset-normalizer<4,>=2 in /anaconda/envs/azureml_py310_sdkv2/lib/python3.10/site-packages (from requests->torchvision) (3.0.1)\nRequirement already satisfied: idna<4,>=2.5 in /anaconda/envs/azureml_py310_sdkv2/lib/python3.10/site-packages (from requests->torchvision) (3.4)\nRequirement already satisfied: urllib3<1.27,>=1.21.1 in /anaconda/envs/azureml_py310_sdkv2/lib/python3.10/site-packages (from requests->torchvision) (1.26.14)\nRequirement already satisfied: certifi>=2017.4.17 in /anaconda/envs/azureml_py310_sdkv2/lib/python3.10/site-packages (from requests->torchvision) (2022.6.15)\nNote: you may need to restart the kernel to use updated packages.\n"
        }
      ],
      "execution_count": 1,
      "metadata": {
        "jupyter": {
          "outputs_hidden": false,
          "source_hidden": false
        },
        "nteract": {
          "transient": {
            "deleting": false
          }
        }
      }
    },
    {
      "cell_type": "code",
      "source": [
        "import os\n",
        "import argparse\n",
        "import torch\n",
        "import torch.nn as nn\n",
        "import torch.optim as optim\n",
        "from torch.utils.data import DataLoader\n",
        "from torchvision.datasets import ImageFolder\n",
        "import torchvision.transforms as transforms\n",
        "from torchvision.models import densenet201\n",
        "from azureml.core import Workspace, Dataset, Experiment, Run\n",
        "\n",
        "from __future__ import print_function, division\n",
        "from torch.optim import lr_scheduler\n",
        "from torchvision import datasets, models, transforms\n",
        "import numpy as np\n",
        "import time\n",
        "import copy\n",
        "import argparse\n",
        "import mlflow\n",
        "from azure.identity import AzureCliCredential\n",
        "from azure.keyvault.secrets import SecretClient\n",
        "from azure.storage.filedatalake import DataLakeServiceClient\n",
        "from azure.identity import AzureCliCredential\n",
        "from azure.keyvault.secrets import SecretClient\n",
        "\n",
        "from azure.ai.ml import command\n",
        "from azure.ai.ml import Input"
      ],
      "outputs": [
        {
          "output_type": "stream",
          "name": "stderr",
          "text": "/anaconda/envs/azureml_py310_sdkv2/lib/python3.10/site-packages/tqdm/auto.py:22: TqdmWarning: IProgress not found. Please update jupyter and ipywidgets. See https://ipywidgets.readthedocs.io/en/stable/user_install.html\n  from .autonotebook import tqdm as notebook_tqdm\n"
        }
      ],
      "execution_count": 2,
      "metadata": {
        "gather": {
          "logged": 1678706865242
        },
        "jupyter": {
          "outputs_hidden": false,
          "source_hidden": false
        },
        "nteract": {
          "transient": {
            "deleting": false
          }
        }
      }
    },
    {
      "cell_type": "code",
      "source": [
        "key_vault_name = 'serengetikeyvaultqezfaqk'\n",
        "key_vault_url = f'https://{key_vault_name}.vault.azure.net/'\n",
        "pool_conn_secret_name = 'DedicatedPool-odbc-ConnectionString'\n",
        "adls_conn_secret_name = 'ADLS-ConnectionString'\n",
        "\n",
        "credential = AzureCliCredential()\n",
        "secret_client = SecretClient(vault_url=key_vault_url, credential = credential)\n",
        "\n",
        "adls_connection_string = secret_client.get_secret(adls_conn_secret_name).value"
      ],
      "outputs": [],
      "execution_count": 3,
      "metadata": {
        "gather": {
          "logged": 1678706865624
        },
        "jupyter": {
          "outputs_hidden": false,
          "source_hidden": false
        },
        "nteract": {
          "transient": {
            "deleting": false
          }
        }
      }
    },
    {
      "cell_type": "code",
      "source": [
        "service_client = DataLakeServiceClient.from_connection_string(adls_connection_string)\n",
        "\n",
        "file_system_name = \"snapshot-serengeti\"\n",
        "file_path = \"images/train\"\n",
        "file_system_client = service_client.get_file_system_client(file_system=file_system_name)\n",
        "paths = file_system_client.get_paths(path=file_path)\n",
        "\n",
        "for path in paths:\n",
        "    print(path.name + \"\\n\")"
      ],
      "outputs": [
        {
          "output_type": "stream",
          "name": "stdout",
          "text": "images/train/baboon\n\nimages/train/baboon/S3_P04_R11_IMAG0017.JPG\n\nimages/train/baboon/S3_P04_R11_IMAG0018.JPG\n\nimages/train/baboon/S3_P04_R11_IMAG0019.JPG\n\nimages/train/baboon/S7_I01_R1_IMAG0011.JPG\n\nimages/train/baboon/S7_I01_R1_IMAG0012.JPG\n\nimages/train/baboon/S7_I01_R1_IMAG0013.JPG\n\nimages/train/baboon/S7_I01_R1_IMAG0014.JPG\n\nimages/train/baboon/S7_I01_R1_IMAG0015.JPG\n\nimages/train/baboon/S7_I01_R1_IMAG0016.JPG\n\nimages/train/buffalo\n\nimages/train/buffalo/S10_I11_R2_IMAG0283.JPG\n\nimages/train/buffalo/S2_D05_R1_PICT2690.JPG\n\nimages/train/buffalo/S2_D05_R1_PICT2691.JPG\n\nimages/train/buffalo/S2_D05_R1_PICT2692.JPG\n\nimages/train/buffalo/S2_D05_R1_PICT2693.JPG\n\nimages/train/buffalo/S2_D05_R1_PICT2694.JPG\n\nimages/train/buffalo/S2_D05_R1_PICT2695.JPG\n\nimages/train/buffalo/S2_D05_R1_PICT2696.JPG\n\nimages/train/buffalo/S2_D05_R1_PICT2697.JPG\n\nimages/train/buffalo/S2_D05_R1_PICT2698.JPG\n\nimages/train/buffalo/S2_D05_R1_PICT2699.JPG\n\nimages/train/buffalo/S2_D05_R1_PICT2700.JPG\n\nimages/train/buffalo/S2_D05_R1_PICT2701.JPG\n\nimages/train/buffalo/S2_D12_R2_PICT0137.JPG\n\nimages/train/buffalo/S2_D12_R2_PICT0138.JPG\n\nimages/train/buffalo/S2_D12_R2_PICT0139.JPG\n\nimages/train/buffalo/S2_D12_R2_PICT0158.JPG\n\nimages/train/buffalo/S2_D12_R2_PICT0159.JPG\n\nimages/train/buffalo/S2_D12_R2_PICT0160.JPG\n\nimages/train/buffalo/S2_V13_R1_IMAG0011.JPG\n\nimages/train/buffalo/S3_F12_R11_IMAG0109.JPG\n\nimages/train/buffalo/S3_F12_R11_IMAG0110.JPG\n\nimages/train/buffalo/S3_F12_R11_IMAG0111.JPG\n\nimages/train/buffalo/S3_F12_R11_IMAG0112.JPG\n\nimages/train/buffalo/S3_F12_R11_IMAG0113.JPG\n\nimages/train/buffalo/S4_H05_R1_IMAG0085.JPG\n\nimages/train/buffalo/S4_H05_R1_IMAG0086.JPG\n\nimages/train/buffalo/S4_H05_R1_IMAG0087.JPG\n\nimages/train/buffalo/S4_H05_R1_IMAG0088.JPG\n\nimages/train/buffalo/S4_H05_R1_IMAG0089.JPG\n\nimages/train/buffalo/S4_H05_R1_IMAG0090.JPG\n\nimages/train/buffalo/S4_H05_R1_IMAG0091.JPG\n\nimages/train/buffalo/S4_H05_R1_IMAG0092.JPG\n\nimages/train/buffalo/S4_H05_R1_IMAG0093.JPG\n\nimages/train/buffalo/S4_H05_R1_IMAG0094.JPG\n\nimages/train/buffalo/S4_H05_R1_IMAG0095.JPG\n\nimages/train/buffalo/S4_H05_R1_IMAG0096.JPG\n\nimages/train/buffalo/S4_H05_R1_IMAG0097.JPG\n\nimages/train/buffalo/S4_H05_R1_IMAG0098.JPG\n\nimages/train/buffalo/S4_O09_R2_IMAG1409.JPG\n\nimages/train/buffalo/S4_O09_R2_IMAG1410.JPG\n\nimages/train/buffalo/S4_O09_R2_IMAG1411.JPG\n\nimages/train/buffalo/S4_O09_R2_IMAG1412.JPG\n\nimages/train/buffalo/S4_P07_R2_IMAG0204.JPG\n\nimages/train/buffalo/S4_P07_R2_IMAG0205.JPG\n\nimages/train/buffalo/S5_K04_R2_IMAG0642.JPG\n\nimages/train/buffalo/S5_K04_R2_IMAG0643.JPG\n\nimages/train/buffalo/S5_K04_R2_IMAG0644.JPG\n\nimages/train/buffalo/S5_K04_R3_IMAG0125.JPG\n\nimages/train/buffalo/S5_K04_R3_IMAG0126.JPG\n\nimages/train/buffalo/S5_U12_R1_IMAG0401.JPG\n\nimages/train/buffalo/S5_U12_R1_IMAG0402.JPG\n\nimages/train/buffalo/S5_U12_R1_IMAG0403.JPG\n\nimages/train/buffalo/S7_N03_R1_IMAG0002.JPG\n\nimages/train/buffalo/S8_O11_R1_IMAG0252.JPG\n\nimages/train/bushbuck\n\nimages/train/bushbuck/S3_F12_R11_IMAG0125.JPG\n\nimages/train/bushbuck/S3_F12_R11_IMAG0128.JPG\n\nimages/train/bushbuck/S3_F12_R11_IMAG0129.JPG\n\nimages/train/bushbuck/S3_F12_R11_IMAG0130.JPG\n\nimages/train/cheetah\n\nimages/train/cheetah/S7_D06_R2_IMAG0018.JPG\n\nimages/train/cheetah/S7_D06_R2_IMAG0035.JPG\n\nimages/train/cheetah/S7_D06_R2_IMAG0047.JPG\n\nimages/train/eland\n\nimages/train/eland/S10_L10_R2_IMAG0756.JPG\n\nimages/train/eland/S10_L10_R2_IMAG0757.JPG\n\nimages/train/eland/S10_L10_R2_IMAG0758.JPG\n\nimages/train/eland/S10_L10_R2_IMAG0759.JPG\n\nimages/train/eland/S10_L10_R2_IMAG0760.JPG\n\nimages/train/eland/S10_L10_R2_IMAG0761.JPG\n\nimages/train/eland/S10_L10_R2_IMAG0762.JPG\n\nimages/train/eland/S10_L10_R2_IMAG0763.JPG\n\nimages/train/eland/S10_L10_R2_IMAG0764.JPG\n\nimages/train/eland/S2_K07_R3_IMAG0220.JPG\n\nimages/train/eland/S2_K07_R3_IMAG0221.JPG\n\nimages/train/eland/S2_K07_R3_IMAG0222.JPG\n\nimages/train/eland/S2_K07_R3_IMAG0223.JPG\n\nimages/train/eland/S2_K07_R3_IMAG0224.JPG\n\nimages/train/eland/S2_K07_R3_IMAG0225.JPG\n\nimages/train/eland/S2_K07_R3_IMAG0226.JPG\n\nimages/train/eland/S2_K07_R3_IMAG0227.JPG\n\nimages/train/eland/S2_K07_R3_IMAG0228.JPG\n\nimages/train/eland/S2_V11_R3_PICT0312.JPG\n\nimages/train/eland/S2_V11_R3_PICT0313.JPG\n\nimages/train/eland/S2_V11_R3_PICT0314.JPG\n\nimages/train/eland/S2_V11_R3_PICT0315.JPG\n\nimages/train/eland/S2_V11_R3_PICT0316.JPG\n\nimages/train/eland/S2_V11_R3_PICT0317.JPG\n\nimages/train/eland/S2_V11_R3_PICT0318.JPG\n\nimages/train/eland/S2_V11_R3_PICT0319.JPG\n\nimages/train/eland/S2_V11_R3_PICT0320.JPG\n\nimages/train/eland/S2_V11_R3_PICT0324.JPG\n\nimages/train/eland/S2_V11_R3_PICT0325.JPG\n\nimages/train/eland/S2_V11_R3_PICT0326.JPG\n\nimages/train/eland/S2_V11_R3_PICT0327.JPG\n\nimages/train/eland/S2_V11_R3_PICT0328.JPG\n\nimages/train/eland/S2_V11_R3_PICT0329.JPG\n\nimages/train/eland/S6_S09_R1_IMAG1447.JPG\n\nimages/train/elephant\n\nimages/train/elephant/S10_H02_R2_IMAG2372.JPG\n\nimages/train/elephant/S10_I11_R2_IMAG0275.JPG\n\nimages/train/elephant/S10_I11_R2_IMAG0276.JPG\n\nimages/train/elephant/S10_I11_R2_IMAG0278.JPG\n\nimages/train/elephant/S10_I11_R2_IMAG0279.JPG\n\nimages/train/elephant/S10_I11_R2_IMAG0281.JPG\n\nimages/train/elephant/S10_I11_R2_IMAG0282.JPG\n\nimages/train/elephant/S10_I11_R2_IMAG0288.JPG\n\nimages/train/elephant/S10_I11_R2_IMAG0289.JPG\n\nimages/train/elephant/S10_I11_R2_IMAG0290.JPG\n\nimages/train/elephant/S10_I11_R2_IMAG0293.JPG\n\nimages/train/elephant/S10_I11_R2_IMAG0294.JPG\n\nimages/train/elephant/S10_I11_R2_IMAG0295.JPG\n\nimages/train/elephant/S10_L10_R2_IMAG0728.JPG\n\nimages/train/elephant/S10_L10_R2_IMAG0729.JPG\n\nimages/train/elephant/S10_L10_R2_IMAG0730.JPG\n\nimages/train/elephant/S10_L10_R2_IMAG0731.JPG\n\nimages/train/elephant/S10_L10_R2_IMAG0732.JPG\n\nimages/train/elephant/S10_L10_R2_IMAG0733.JPG\n\nimages/train/elephant/S10_L10_R2_IMAG0734.JPG\n\nimages/train/elephant/S10_L10_R2_IMAG0735.JPG\n\nimages/train/elephant/S10_L10_R2_IMAG0736.JPG\n\nimages/train/elephant/S10_L10_R2_IMAG0737.JPG\n\nimages/train/elephant/S2_F02_R1_IMAG0494.JPG\n\nimages/train/elephant/S2_F02_R1_IMAG0510.JPG\n\nimages/train/elephant/S2_F02_R1_IMAG0511.JPG\n\nimages/train/elephant/S2_F02_R1_IMAG0512.JPG\n\nimages/train/elephant/S2_F02_R1_IMAG0513.JPG\n\nimages/train/elephant/S2_F02_R1_IMAG0514.JPG\n\nimages/train/elephant/S2_F02_R1_IMAG0515.JPG\n\nimages/train/elephant/S2_L04_R2_IMAG0040.JPG\n\nimages/train/elephant/S2_L04_R2_IMAG0041.JPG\n\nimages/train/elephant/S2_L04_R2_IMAG0042.JPG\n\nimages/train/elephant/S2_L04_R4_IMAG0054.JPG\n\nimages/train/elephant/S2_L04_R4_IMAG0059.JPG\n\nimages/train/elephant/S2_L04_R4_IMAG0060.JPG\n\nimages/train/elephant/S2_L04_R4_IMAG0061.JPG\n\nimages/train/elephant/S2_L04_R4_IMAG0062.JPG\n\nimages/train/elephant/S2_L04_R4_IMAG0063.JPG\n\nimages/train/elephant/S2_L04_R4_IMAG0077.JPG\n\nimages/train/elephant/S2_L04_R4_IMAG0078.JPG\n\nimages/train/elephant/S2_L04_R4_IMAG0079.JPG\n\nimages/train/elephant/S3_F01_R11_IMAG0227.JPG\n\nimages/train/elephant/S3_F01_R11_IMAG0228.JPG\n\nimages/train/elephant/S3_F12_R11_IMAG0115.JPG\n\nimages/train/elephant/S3_F12_R11_IMAG0116.JPG\n\nimages/train/elephant/S3_F12_R11_IMAG0117.JPG\n\nimages/train/elephant/S3_O10_R12_IMAG0562.JPG\n\nimages/train/elephant/S3_O10_R12_IMAG0563.JPG\n\nimages/train/elephant/S3_O10_R12_IMAG0565.JPG\n\nimages/train/elephant/S3_O10_R12_IMAG0734.JPG\n\nimages/train/elephant/S3_O10_R12_IMAG0735.JPG\n\nimages/train/elephant/S3_O10_R12_IMAG0736.JPG\n\nimages/train/elephant/S4_I07_R1_IMAG3421.JPG\n\nimages/train/elephant/S4_O10_R1_IMAG0066.JPG\n\nimages/train/elephant/S4_O10_R1_IMAG0067.JPG\n\nimages/train/elephant/S4_O10_R1_IMAG0068.JPG\n\nimages/train/elephant/S4_O10_R1_IMAG0072.JPG\n\nimages/train/elephant/S4_O10_R1_IMAG0073.JPG\n\nimages/train/elephant/S4_O10_R1_IMAG0074.JPG\n\nimages/train/elephant/S4_O10_R1_IMAG0078.JPG\n\nimages/train/elephant/S4_O10_R1_IMAG0079.JPG\n\nimages/train/elephant/S4_O10_R1_IMAG0080.JPG\n\nimages/train/elephant/S4_O10_R1_IMAG0298.JPG\n\nimages/train/elephant/S4_O10_R1_IMAG0300.JPG\n\nimages/train/elephant/S4_O10_R1_IMAG0301.JPG\n\nimages/train/elephant/S4_O10_R1_IMAG0302.JPG\n\nimages/train/elephant/S4_O10_R1_IMAG0303.JPG\n\nimages/train/elephant/S4_O10_R1_IMAG0304.JPG\n\nimages/train/elephant/S4_O10_R1_IMAG0305.JPG\n\nimages/train/elephant/S4_O10_R1_IMAG0312.JPG\n\nimages/train/elephant/S4_O10_R1_IMAG0313.JPG\n\nimages/train/elephant/S4_O10_R1_IMAG0314.JPG\n\nimages/train/elephant/S4_O10_R1_IMAG0315.JPG\n\nimages/train/elephant/S4_O10_R1_IMAG0316.JPG\n\nimages/train/elephant/S4_O10_R1_IMAG0317.JPG\n\nimages/train/elephant/S4_O10_R1_IMAG0318.JPG\n\nimages/train/elephant/S4_O10_R1_IMAG0319.JPG\n\nimages/train/elephant/S4_O10_R1_IMAG0320.JPG\n\nimages/train/elephant/S4_O10_R1_IMAG0321.JPG\n\nimages/train/elephant/S4_O10_R1_IMAG0322.JPG\n\nimages/train/elephant/S4_O10_R1_IMAG0323.JPG\n\nimages/train/elephant/S4_O10_R1_IMAG0324.JPG\n\nimages/train/elephant/S4_O10_R1_IMAG0325.JPG\n\nimages/train/elephant/S4_O10_R1_IMAG0326.JPG\n\nimages/train/elephant/S4_O10_R1_IMAG0327.JPG\n\nimages/train/elephant/S6_L04_R1_IMAG0365.JPG\n\nimages/train/elephant/S6_L04_R1_IMAG0366.JPG\n\nimages/train/elephant/S6_L04_R1_IMAG0367.JPG\n\nimages/train/elephant/S6_L04_R1_IMAG0368.JPG\n\nimages/train/elephant/S6_L04_R1_IMAG0369.JPG\n\nimages/train/elephant/S6_L04_R1_IMAG0370.JPG\n\nimages/train/elephant/S6_L04_R1_IMAG0371.JPG\n\nimages/train/elephant/S6_L04_R1_IMAG0372.JPG\n\nimages/train/elephant/S6_L04_R1_IMAG0373.JPG\n\nimages/train/elephant/S6_L04_R1_IMAG0374.JPG\n\nimages/train/elephant/S6_L04_R1_IMAG0375.JPG\n\nimages/train/elephant/S6_L04_R1_IMAG0376.JPG\n\nimages/train/elephant/S6_L04_R1_IMAG0377.JPG\n\nimages/train/elephant/S6_L04_R1_IMAG0378.JPG\n\nimages/train/elephant/S6_L04_R1_IMAG0379.JPG\n\nimages/train/elephant/S6_L04_R1_IMAG0380.JPG\n\nimages/train/elephant/S6_L04_R1_IMAG0381.JPG\n\nimages/train/elephant/S6_L04_R1_IMAG0382.JPG\n\nimages/train/elephant/S6_L04_R1_IMAG0383.JPG\n\nimages/train/elephant/S6_L04_R1_IMAG0384.JPG\n\nimages/train/elephant/S6_L04_R1_IMAG0385.JPG\n\nimages/train/elephant/S6_L04_R1_IMAG0386.JPG\n\nimages/train/elephant/S6_L04_R1_IMAG0387.JPG\n\nimages/train/elephant/S7_D06_R2_IMAG0022.JPG\n\nimages/train/elephant/S7_D06_R2_IMAG0023.JPG\n\nimages/train/elephant/S7_D06_R2_IMAG0024.JPG\n\nimages/train/elephant/S7_H02_R1_IMAG1184.JPG\n\nimages/train/elephant/S7_H02_R1_IMAG1185.JPG\n\nimages/train/elephant/S7_H02_R1_IMAG1186.JPG\n\nimages/train/elephant/S7_H02_R1_IMAG1187.JPG\n\nimages/train/elephant/S7_H02_R1_IMAG1188.JPG\n\nimages/train/elephant/S7_H02_R1_IMAG1189.JPG\n\nimages/train/elephant/S7_H02_R1_IMAG1190.JPG\n\nimages/train/elephant/S7_H02_R1_IMAG1191.JPG\n\nimages/train/elephant/S7_H02_R1_IMAG1192.JPG\n\nimages/train/elephant/S7_H02_R1_IMAG1193.JPG\n\nimages/train/elephant/S7_H02_R1_IMAG1194.JPG\n\nimages/train/elephant/S7_H02_R1_IMAG1195.JPG\n\nimages/train/elephant/S7_H02_R1_IMAG1196.JPG\n\nimages/train/elephant/S7_H02_R1_IMAG1197.JPG\n\nimages/train/elephant/S7_H02_R1_IMAG1198.JPG\n\nimages/train/elephant/S7_H02_R1_IMAG1199.JPG\n\nimages/train/elephant/S7_H02_R1_IMAG1200.JPG\n\nimages/train/elephant/S7_H02_R1_IMAG1201.JPG\n\nimages/train/elephant/S7_H08_R2_IMAG0149.JPG\n\nimages/train/elephant/S7_H08_R2_IMAG0150.JPG\n\nimages/train/elephant/S7_H08_R2_IMAG0151.JPG\n\nimages/train/elephant/S7_H08_R2_IMAG0152.JPG\n\nimages/train/elephant/S7_N03_R1_IMAG0005.JPG\n\nimages/train/elephant/S7_N03_R1_IMAG0006.JPG\n\nimages/train/elephant/S7_N03_R1_IMAG0007.JPG\n\nimages/train/elephant/S7_N03_R1_IMAG0011.JPG\n\nimages/train/elephant/S7_N03_R1_IMAG0012.JPG\n\nimages/train/elephant/S7_N03_R1_IMAG0013.JPG\n\nimages/train/elephant/S7_N03_R1_IMAG0014.JPG\n\nimages/train/elephant/S7_N03_R1_IMAG0015.JPG\n\nimages/train/elephant/S7_N03_R1_IMAG0016.JPG\n\nimages/train/elephant/S7_N03_R1_IMAG0017.JPG\n\nimages/train/elephant/S7_N03_R1_IMAG0018.JPG\n\nimages/train/elephant/S7_N03_R1_IMAG0019.JPG\n\nimages/train/elephant/S7_N03_R1_IMAG0020.JPG\n\nimages/train/elephant/S7_N03_R1_IMAG0021.JPG\n\nimages/train/elephant/S7_N03_R1_IMAG0022.JPG\n\nimages/train/gazellegrants\n\nimages/train/gazellegrants/S1_H09_R1_PICT0377.JPG\n\nimages/train/gazellegrants/S1_H09_R1_PICT0378.JPG\n\nimages/train/gazellegrants/S1_H09_R1_PICT0379.JPG\n\nimages/train/gazellegrants/S2_N04_R3_IMAG0186.JPG\n\nimages/train/gazellegrants/S2_N04_R3_IMAG0187.JPG\n\nimages/train/gazellegrants/S2_N04_R3_IMAG0188.JPG\n\nimages/train/gazellegrants/S2_N04_R3_IMAG0189.JPG\n\nimages/train/gazellegrants/S2_N04_R3_IMAG0190.JPG\n\nimages/train/gazellegrants/S2_N04_R3_IMAG0191.JPG\n\nimages/train/gazellegrants/S2_R08_R2_IMAG0147.JPG\n\nimages/train/gazellegrants/S2_R08_R2_IMAG0148.JPG\n\nimages/train/gazellegrants/S2_R08_R2_IMAG0149.JPG\n\nimages/train/gazellegrants/S2_R08_R2_IMAG0150.JPG\n\nimages/train/gazellegrants/S2_R08_R2_IMAG0151.JPG\n\nimages/train/gazellegrants/S2_R08_R2_IMAG0152.JPG\n\nimages/train/gazellegrants/S3_E04_R12_IMAG0647.JPG\n\nimages/train/gazellegrants/S3_E04_R12_IMAG0648.JPG\n\nimages/train/gazellegrants/S3_E04_R12_IMAG0649.JPG\n\nimages/train/gazellegrants/S3_E04_R12_IMAG0650.JPG\n\nimages/train/gazellegrants/S3_E04_R12_IMAG0651.JPG\n\nimages/train/gazellegrants/S3_P04_R11_IMAG0013.JPG\n\nimages/train/gazellegrants/S3_P04_R11_IMAG0014.JPG\n\nimages/train/gazellegrants/S3_P04_R11_IMAG0015.JPG\n\nimages/train/gazellegrants/S3_P04_R11_IMAG0020.JPG\n\nimages/train/gazellegrants/S4_H05_R1_IMAG0099.JPG\n\nimages/train/gazellegrants/S5_K04_R2_IMAG0580.JPG\n\nimages/train/gazellegrants/S5_K04_R2_IMAG0581.JPG\n\nimages/train/gazellegrants/S5_K04_R2_IMAG0582.JPG\n\nimages/train/gazellegrants/S7_S09_R3_IMAG0472.JPG\n\nimages/train/gazellegrants/S7_S09_R3_IMAG0473.JPG\n\nimages/train/gazellegrants/S7_S09_R3_IMAG0474.JPG\n\nimages/train/gazellegrants/S7_S09_R3_IMAG0475.JPG\n\nimages/train/gazellegrants/S7_S09_R3_IMAG0476.JPG\n\nimages/train/gazellegrants/S7_S09_R3_IMAG0477.JPG\n\nimages/train/gazellegrants/S7_S09_R3_IMAG0478.JPG\n\nimages/train/gazellegrants/S7_S09_R3_IMAG0479.JPG\n\nimages/train/gazellegrants/S7_S09_R3_IMAG0480.JPG\n\nimages/train/gazellegrants/S7_S09_R3_IMAG0481.JPG\n\nimages/train/gazellegrants/S7_S09_R3_IMAG0482.JPG\n\nimages/train/gazellegrants/S7_S09_R3_IMAG0483.JPG\n\nimages/train/gazellegrants/S7_S09_R3_IMAG0484.JPG\n\nimages/train/gazellegrants/S7_S09_R3_IMAG0485.JPG\n\nimages/train/gazellegrants/S7_S09_R3_IMAG0486.JPG\n\nimages/train/gazellegrants/S7_S09_R3_IMAG0487.JPG\n\nimages/train/gazellegrants/S7_S09_R3_IMAG0488.JPG\n\nimages/train/gazellegrants/S7_S09_R3_IMAG0489.JPG\n\nimages/train/gazellegrants/S7_S09_R3_IMAG0490.JPG\n\nimages/train/gazellegrants/S7_S09_R3_IMAG0491.JPG\n\nimages/train/gazellegrants/S7_S09_R3_IMAG0492.JPG\n\nimages/train/gazellegrants/S7_S09_R3_IMAG0493.JPG\n\nimages/train/gazellegrants/S7_S09_R3_IMAG0494.JPG\n\nimages/train/gazellegrants/S7_T08_R3_IMAG0300.JPG\n\nimages/train/gazellegrants/S7_T08_R3_IMAG0301.JPG\n\nimages/train/gazellegrants/S7_T08_R3_IMAG0302.JPG\n\nimages/train/gazellegrants/S7_T08_R3_IMAG0303.JPG\n\nimages/train/gazellegrants/S7_T08_R3_IMAG0304.JPG\n\nimages/train/gazellegrants/S7_T08_R3_IMAG0308.JPG\n\nimages/train/gazellegrants/S7_T08_R3_IMAG0309.JPG\n\nimages/train/gazellegrants/S7_T08_R3_IMAG0310.JPG\n\nimages/train/gazellegrants/S7_T08_R3_IMAG0311.JPG\n\nimages/train/gazellegrants/S7_T08_R3_IMAG0312.JPG\n\nimages/train/gazellegrants/S7_T08_R3_IMAG0313.JPG\n\nimages/train/gazellegrants/S7_T08_R3_IMAG0314.JPG\n\nimages/train/gazellegrants/S7_T08_R3_IMAG0315.JPG\n\nimages/train/gazellegrants/S7_T08_R3_IMAG0316.JPG\n\nimages/train/gazellegrants/S7_T08_R3_IMAG0317.JPG\n\nimages/train/gazellegrants/S7_T08_R3_IMAG0318.JPG\n\nimages/train/gazellegrants/S7_T08_R3_IMAG0319.JPG\n\nimages/train/gazellegrants/S7_T08_R3_IMAG0323.JPG\n\nimages/train/gazellegrants/S7_T08_R3_IMAG0324.JPG\n\nimages/train/gazellegrants/S7_T08_R3_IMAG0325.JPG\n\nimages/train/gazellegrants/S8_E04_R3_IMAG1879.JPG\n\nimages/train/gazellegrants/S8_E04_R3_IMAG1880.JPG\n\nimages/train/gazellegrants/S8_E04_R3_IMAG1881.JPG\n\nimages/train/gazellegrants/SER_S11_K12_R2_IMAG0564.JPG\n\nimages/train/gazellegrants/SER_S11_K12_R2_IMAG0565.JPG\n\nimages/train/gazellegrants/SER_S11_K12_R2_IMAG0566.JPG\n\nimages/train/gazellethomsons\n\nimages/train/gazellethomsons/S10_N09_R1_IMAG0477.JPG\n\nimages/train/gazellethomsons/S10_N09_R1_IMAG0478.JPG\n\nimages/train/gazellethomsons/S10_N09_R1_IMAG0479.JPG\n\nimages/train/gazellethomsons/S10_N09_R1_IMAG0480.JPG\n\nimages/train/gazellethomsons/S1_E06_R4_PICT0988.JPG\n\nimages/train/gazellethomsons/S1_E06_R4_PICT0995.JPG\n\nimages/train/gazellethomsons/S1_E06_R4_PICT0996.JPG\n\nimages/train/gazellethomsons/S1_E06_R4_PICT0997.JPG\n\nimages/train/gazellethomsons/S1_E06_R4_PICT0998.JPG\n\nimages/train/gazellethomsons/S1_E06_R4_PICT0999.JPG\n\nimages/train/gazellethomsons/S1_E06_R4_PICT1000.JPG\n\nimages/train/gazellethomsons/S1_E06_R4_PICT1001.JPG\n\nimages/train/gazellethomsons/S1_E06_R4_PICT1002.JPG\n\nimages/train/gazellethomsons/S1_E06_R4_PICT1003.JPG\n\nimages/train/gazellethomsons/S1_E06_R4_PICT1004.JPG\n\nimages/train/gazellethomsons/S1_E06_R4_PICT1005.JPG\n\nimages/train/gazellethomsons/S1_E06_R4_PICT1006.JPG\n\nimages/train/gazellethomsons/S1_H09_R1_PICT0374.JPG\n\nimages/train/gazellethomsons/S1_H09_R1_PICT0375.JPG\n\nimages/train/gazellethomsons/S1_H09_R1_PICT0376.JPG\n\nimages/train/gazellethomsons/S1_H09_R1_PICT0386.JPG\n\nimages/train/gazellethomsons/S1_H09_R1_PICT0387.JPG\n\nimages/train/gazellethomsons/S1_H09_R1_PICT0388.JPG\n\nimages/train/gazellethomsons/S1_H09_R1_PICT0389.JPG\n\nimages/train/gazellethomsons/S1_H09_R1_PICT0390.JPG\n\nimages/train/gazellethomsons/S1_H09_R1_PICT0391.JPG\n\nimages/train/gazellethomsons/S1_H09_R1_PICT0392.JPG\n\nimages/train/gazellethomsons/S1_H09_R1_PICT0393.JPG\n\nimages/train/gazellethomsons/S1_H09_R1_PICT0394.JPG\n\nimages/train/gazellethomsons/S1_H09_R1_PICT0395.JPG\n\nimages/train/gazellethomsons/S1_H09_R1_PICT0396.JPG\n\nimages/train/gazellethomsons/S1_H09_R1_PICT0397.JPG\n\nimages/train/gazellethomsons/S2_E04_R3_IMAG1611.JPG\n\nimages/train/gazellethomsons/S2_E04_R3_IMAG1624.JPG\n\nimages/train/gazellethomsons/S2_E04_R3_IMAG1625.JPG\n\nimages/train/gazellethomsons/S2_E04_R3_IMAG1626.JPG\n\nimages/train/gazellethomsons/S2_E04_R3_IMAG1627.JPG\n\nimages/train/gazellethomsons/S2_E04_R3_IMAG1628.JPG\n\nimages/train/gazellethomsons/S2_E04_R3_IMAG1629.JPG\n\nimages/train/gazellethomsons/S2_E04_R3_IMAG1630.JPG\n\nimages/train/gazellethomsons/S3_J05_R11_IMAG1408.JPG\n\nimages/train/gazellethomsons/S3_J05_R11_IMAG1409.JPG\n\nimages/train/gazellethomsons/S3_J05_R11_IMAG1410.JPG\n\nimages/train/gazellethomsons/S3_J05_R11_IMAG1411.JPG\n\nimages/train/gazellethomsons/S3_J05_R11_IMAG1412.JPG\n\nimages/train/gazellethomsons/S3_J05_R11_IMAG1413.JPG\n\nimages/train/gazellethomsons/S3_J05_R11_IMAG1414.JPG\n\nimages/train/gazellethomsons/S3_J05_R11_IMAG1415.JPG\n\nimages/train/gazellethomsons/S3_J05_R11_IMAG1416.JPG\n\nimages/train/gazellethomsons/S3_J05_R11_IMAG1417.JPG\n\nimages/train/gazellethomsons/S3_J05_R11_IMAG1418.JPG\n\nimages/train/gazellethomsons/S3_J05_R11_IMAG1419.JPG\n\nimages/train/gazellethomsons/S3_J05_R11_IMAG1420.JPG\n\nimages/train/gazellethomsons/S3_J05_R11_IMAG1421.JPG\n\nimages/train/gazellethomsons/S3_J05_R11_IMAG1422.JPG\n\nimages/train/gazellethomsons/S3_J05_R11_IMAG1423.JPG\n\nimages/train/gazellethomsons/S3_J05_R11_IMAG1424.JPG\n\nimages/train/gazellethomsons/S3_J05_R11_IMAG1425.JPG\n\nimages/train/gazellethomsons/S3_J05_R11_IMAG1426.JPG\n\nimages/train/gazellethomsons/S3_J05_R11_IMAG1427.JPG\n\nimages/train/gazellethomsons/S3_J05_R11_IMAG1428.JPG\n\nimages/train/gazellethomsons/S3_J05_R11_IMAG1432.JPG\n\nimages/train/gazellethomsons/S3_J05_R11_IMAG1433.JPG\n\nimages/train/gazellethomsons/S5_E12_R3_IMAG2673.JPG\n\nimages/train/gazellethomsons/S5_E12_R3_IMAG2674.JPG\n\nimages/train/gazellethomsons/S5_K04_R2_IMAG0583.JPG\n\nimages/train/gazellethomsons/S5_K04_R2_IMAG0584.JPG\n\nimages/train/gazellethomsons/S5_K04_R2_IMAG0585.JPG\n\nimages/train/gazellethomsons/S7_C05_R2_IMAG1133.JPG\n\nimages/train/gazellethomsons/S7_C05_R2_IMAG1134.JPG\n\nimages/train/gazellethomsons/S7_C05_R2_IMAG1135.JPG\n\nimages/train/gazellethomsons/S7_C05_R2_IMAG1136.JPG\n\nimages/train/gazellethomsons/S7_C05_R2_IMAG1137.JPG\n\nimages/train/gazellethomsons/S7_C08_R2_IMAG2232.JPG\n\nimages/train/gazellethomsons/S7_C08_R2_IMAG2233.JPG\n\nimages/train/gazellethomsons/S7_C08_R2_IMAG2251.JPG\n\nimages/train/gazellethomsons/S7_C08_R2_IMAG2252.JPG\n\nimages/train/gazellethomsons/S7_C08_R2_IMAG2253.JPG\n\nimages/train/gazellethomsons/S7_T08_R3_IMAG0320.JPG\n\nimages/train/gazellethomsons/S7_T08_R3_IMAG0321.JPG\n\nimages/train/gazellethomsons/S7_T08_R3_IMAG0322.JPG\n\nimages/train/gazellethomsons/S8_C08_R3_IMAG0846.JPG\n\nimages/train/gazellethomsons/S8_C08_R3_IMAG0847.JPG\n\nimages/train/gazellethomsons/S8_C08_R3_IMAG0848.JPG\n\nimages/train/gazellethomsons/S8_C08_R3_IMAG0849.JPG\n\nimages/train/gazellethomsons/S8_C08_R3_IMAG0850.JPG\n\nimages/train/gazellethomsons/S8_C08_R3_IMAG0851.JPG\n\nimages/train/gazellethomsons/S8_C08_R3_IMAG0852.JPG\n\nimages/train/gazellethomsons/S8_C08_R3_IMAG0853.JPG\n\nimages/train/gazellethomsons/S8_C08_R3_IMAG0854.JPG\n\nimages/train/gazellethomsons/S8_C08_R3_IMAG0855.JPG\n\nimages/train/gazellethomsons/S8_C08_R3_IMAG0856.JPG\n\nimages/train/gazellethomsons/S8_C08_R3_IMAG0857.JPG\n\nimages/train/gazellethomsons/S8_C08_R3_IMAG0858.JPG\n\nimages/train/gazellethomsons/S8_C08_R3_IMAG0859.JPG\n\nimages/train/gazellethomsons/S8_C08_R3_IMAG0860.JPG\n\nimages/train/gazellethomsons/S8_C08_R3_IMAG0861.JPG\n\nimages/train/gazellethomsons/S8_C08_R3_IMAG0862.JPG\n\nimages/train/gazellethomsons/S8_C08_R3_IMAG0863.JPG\n\nimages/train/gazellethomsons/S8_C08_R3_IMAG0864.JPG\n\nimages/train/gazellethomsons/S8_C08_R3_IMAG0865.JPG\n\nimages/train/gazellethomsons/S8_C08_R3_IMAG0866.JPG\n\nimages/train/gazellethomsons/S8_C08_R3_IMAG0867.JPG\n\nimages/train/gazellethomsons/S8_C08_R3_IMAG0868.JPG\n\nimages/train/gazellethomsons/S8_D09_R1_IMAG0052.JPG\n\nimages/train/gazellethomsons/S8_D09_R1_IMAG0053.JPG\n\nimages/train/gazellethomsons/S8_D09_R1_IMAG0054.JPG\n\nimages/train/gazellethomsons/S8_D09_R1_IMAG0055.JPG\n\nimages/train/gazellethomsons/S8_D09_R1_IMAG0059.JPG\n\nimages/train/gazellethomsons/S8_D09_R1_IMAG0060.JPG\n\nimages/train/gazellethomsons/S8_D09_R1_IMAG0061.JPG\n\nimages/train/gazellethomsons/S8_D09_R1_IMAG0062.JPG\n\nimages/train/gazellethomsons/S8_D09_R1_IMAG0063.JPG\n\nimages/train/gazellethomsons/S8_D09_R1_IMAG0064.JPG\n\nimages/train/gazellethomsons/S8_D09_R1_IMAG0065.JPG\n\nimages/train/gazellethomsons/S8_D09_R1_IMAG0066.JPG\n\nimages/train/gazellethomsons/S8_D09_R1_IMAG0067.JPG\n\nimages/train/gazellethomsons/S8_D09_R1_IMAG0068.JPG\n\nimages/train/gazellethomsons/S8_D09_R1_IMAG0069.JPG\n\nimages/train/gazellethomsons/S8_D09_R1_IMAG0070.JPG\n\nimages/train/gazellethomsons/S8_D09_R1_IMAG0071.JPG\n\nimages/train/gazellethomsons/S8_D09_R1_IMAG0072.JPG\n\nimages/train/gazellethomsons/S8_D09_R1_IMAG0073.JPG\n\nimages/train/gazellethomsons/S8_D09_R1_IMAG0074.JPG\n\nimages/train/gazellethomsons/S8_D09_R1_IMAG0075.JPG\n\nimages/train/gazellethomsons/S8_D09_R1_IMAG0076.JPG\n\nimages/train/gazellethomsons/S8_D09_R1_IMAG0077.JPG\n\nimages/train/gazellethomsons/S8_E04_R3_IMAG1868.JPG\n\nimages/train/gazellethomsons/S8_E04_R3_IMAG1869.JPG\n\nimages/train/gazellethomsons/S8_E04_R3_IMAG1870.JPG\n\nimages/train/gazellethomsons/S8_E04_R3_IMAG1871.JPG\n\nimages/train/gazellethomsons/S8_E04_R3_IMAG1872.JPG\n\nimages/train/gazellethomsons/S8_E04_R3_IMAG1873.JPG\n\nimages/train/gazellethomsons/S8_E04_R3_IMAG1874.JPG\n\nimages/train/gazellethomsons/S8_E04_R3_IMAG1875.JPG\n\nimages/train/gazellethomsons/S8_E04_R3_IMAG1876.JPG\n\nimages/train/gazellethomsons/S8_E04_R3_IMAG1877.JPG\n\nimages/train/gazellethomsons/S8_E04_R3_IMAG1878.JPG\n\nimages/train/gazellethomsons/S8_E04_R3_IMAG1882.JPG\n\nimages/train/gazellethomsons/S8_E04_R3_IMAG1883.JPG\n\nimages/train/gazellethomsons/S8_E04_R3_IMAG1884.JPG\n\nimages/train/gazellethomsons/S8_E04_R3_IMAG1885.JPG\n\nimages/train/gazellethomsons/S8_E04_R3_IMAG1886.JPG\n\nimages/train/gazellethomsons/S8_E04_R3_IMAG1887.JPG\n\nimages/train/gazellethomsons/S8_E04_R3_IMAG1888.JPG\n\nimages/train/gazellethomsons/S8_E04_R3_IMAG1889.JPG\n\nimages/train/gazellethomsons/S9_O09_R1_IMAG0697.JPG\n\nimages/train/gazellethomsons/S9_O09_R1_IMAG0698.JPG\n\nimages/train/gazellethomsons/S9_O09_R1_IMAG0699.JPG\n\nimages/train/gazellethomsons/S9_O09_R1_IMAG0700.JPG\n\nimages/train/gazellethomsons/S9_O09_R1_IMAG0701.JPG\n\nimages/train/gazellethomsons/S9_O09_R1_IMAG0702.JPG\n\nimages/train/gazellethomsons/S9_O09_R1_IMAG0703.JPG\n\nimages/train/gazellethomsons/S9_O09_R1_IMAG0704.JPG\n\nimages/train/gazellethomsons/S9_O09_R1_IMAG0705.JPG\n\nimages/train/gazellethomsons/S9_O09_R1_IMAG0706.JPG\n\nimages/train/gazellethomsons/S9_O09_R1_IMAG0707.JPG\n\nimages/train/gazellethomsons/S9_O09_R1_IMAG0708.JPG\n\nimages/train/gazellethomsons/S9_O09_R1_IMAG0709.JPG\n\nimages/train/gazellethomsons/S9_O09_R1_IMAG0710.JPG\n\nimages/train/gazellethomsons/S9_O09_R1_IMAG0711.JPG\n\nimages/train/gazellethomsons/S9_O09_R1_IMAG0712.JPG\n\nimages/train/gazellethomsons/S9_O09_R1_IMAG0713.JPG\n\nimages/train/gazellethomsons/S9_O09_R1_IMAG0714.JPG\n\nimages/train/gazellethomsons/S9_O09_R1_IMAG0715.JPG\n\nimages/train/gazellethomsons/S9_O09_R1_IMAG0716.JPG\n\nimages/train/gazellethomsons/S9_O09_R1_IMAG0717.JPG\n\nimages/train/gazellethomsons/S9_O09_R1_IMAG0721.JPG\n\nimages/train/gazellethomsons/S9_O09_R1_IMAG0722.JPG\n\nimages/train/gazellethomsons/SER_S11_D02_R1_IMAG0382.JPG\n\nimages/train/gazellethomsons/SER_S11_D02_R1_IMAG0383.JPG\n\nimages/train/gazellethomsons/SER_S11_D02_R1_IMAG0384.JPG\n\nimages/train/gazellethomsons/SER_S11_D02_R1_IMAG0385.JPG\n\nimages/train/gazellethomsons/SER_S11_D02_R1_IMAG0386.JPG\n\nimages/train/gazellethomsons/SER_S11_D02_R1_IMAG0387.JPG\n\nimages/train/gazellethomsons/SER_S11_H02_R1_IMAG1272.JPG\n\nimages/train/gazellethomsons/SER_S11_H02_R1_IMAG1273.JPG\n\nimages/train/gazellethomsons/SER_S11_H02_R1_IMAG1274.JPG\n\nimages/train/gazellethomsons/SER_S11_H02_R1_IMAG1275.JPG\n\nimages/train/gazellethomsons/SER_S11_H02_R1_IMAG1276.JPG\n\nimages/train/gazellethomsons/SER_S11_H02_R1_IMAG1277.JPG\n\nimages/train/gazellethomsons/SER_S11_H02_R1_IMAG1278.JPG\n\nimages/train/gazellethomsons/SER_S11_H02_R1_IMAG1279.JPG\n\nimages/train/gazellethomsons/SER_S11_H02_R1_IMAG1280.JPG\n\nimages/train/gazellethomsons/SER_S11_H02_R1_IMAG1281.JPG\n\nimages/train/gazellethomsons/SER_S11_H02_R1_IMAG1282.JPG\n\nimages/train/gazellethomsons/SER_S11_H02_R1_IMAG1283.JPG\n\nimages/train/gazellethomsons/SER_S11_H02_R1_IMAG1284.JPG\n\nimages/train/gazellethomsons/SER_S11_H02_R1_IMAG1285.JPG\n\nimages/train/gazellethomsons/SER_S11_H02_R1_IMAG1286.JPG\n\nimages/train/gazellethomsons/SER_S11_H02_R1_IMAG1287.JPG\n\nimages/train/gazellethomsons/SER_S11_H02_R1_IMAG1288.JPG\n\nimages/train/gazellethomsons/SER_S11_J02_R1_IMAG0327.JPG\n\nimages/train/gazellethomsons/SER_S11_J02_R1_IMAG0328.JPG\n\nimages/train/gazellethomsons/SER_S11_J02_R1_IMAG0329.JPG\n\nimages/train/gazellethomsons/SER_S11_K12_R2_IMAG0570.JPG\n\nimages/train/gazellethomsons/SER_S11_K12_R2_IMAG0571.JPG\n\nimages/train/gazellethomsons/SER_S11_K12_R2_IMAG0572.JPG\n\nimages/train/gazellethomsons/SER_S11_K12_R2_IMAG0573.JPG\n\nimages/train/gazellethomsons/SER_S11_L10_R2_IMAG1010.JPG\n\nimages/train/gazellethomsons/SER_S11_L10_R2_IMAG1011.JPG\n\nimages/train/gazellethomsons/SER_S11_L10_R2_IMAG1012.JPG\n\nimages/train/gazellethomsons/SER_S11_L10_R2_IMAG3458.JPG\n\nimages/train/gazellethomsons/SER_S11_L10_R2_IMAG3459.JPG\n\nimages/train/gazellethomsons/SER_S11_L10_R2_IMAG3460.JPG\n\nimages/train/gazellethomsons/SER_S11_L10_R2_IMAG3475.JPG\n\nimages/train/gazellethomsons/SER_S11_L10_R2_IMAG3476.JPG\n\nimages/train/giraffe\n\nimages/train/giraffe/S10_I11_R2_IMAG0300.JPG\n\nimages/train/giraffe/S10_I11_R2_IMAG0301.JPG\n\nimages/train/giraffe/S10_I11_R2_IMAG0302.JPG\n\nimages/train/giraffe/S2_E04_R3_IMAG1618.JPG\n\nimages/train/giraffe/S2_E04_R3_IMAG1619.JPG\n\nimages/train/giraffe/S2_E04_R3_IMAG1620.JPG\n\nimages/train/giraffe/S2_E04_R3_IMAG1624.JPG\n\nimages/train/giraffe/S2_E04_R3_IMAG1625.JPG\n\nimages/train/giraffe/S2_E04_R3_IMAG1626.JPG\n\nimages/train/giraffe/S2_L04_R4_IMAG0031.JPG\n\nimages/train/giraffe/S2_L04_R4_IMAG0032.JPG\n\nimages/train/giraffe/S2_L04_R4_IMAG0033.JPG\n\nimages/train/giraffe/S2_L04_R4_IMAG0065.JPG\n\nimages/train/giraffe/S2_L04_R4_IMAG0066.JPG\n\nimages/train/giraffe/S2_L04_R4_IMAG0067.JPG\n\nimages/train/giraffe/S2_L04_R4_IMAG0069.JPG\n\nimages/train/giraffe/S2_L04_R4_IMAG0070.JPG\n\nimages/train/giraffe/S2_L04_R4_IMAG0071.JPG\n\nimages/train/giraffe/S7_D06_R2_IMAG0008.JPG\n\nimages/train/giraffe/S7_D06_R2_IMAG0009.JPG\n\nimages/train/giraffe/S7_D06_R2_IMAG0010.JPG\n\nimages/train/giraffe/S7_D06_R2_IMAG0011.JPG\n\nimages/train/giraffe/S7_D06_R2_IMAG0012.JPG\n\nimages/train/giraffe/S7_D06_R2_IMAG0013.JPG\n\nimages/train/giraffe/S7_D06_R2_IMAG0014.JPG\n\nimages/train/giraffe/S7_D06_R2_IMAG0015.JPG\n\nimages/train/giraffe/S7_D06_R2_IMAG0025.JPG\n\nimages/train/giraffe/S7_D06_R2_IMAG0026.JPG\n\nimages/train/giraffe/S7_D06_R2_IMAG0027.JPG\n\nimages/train/giraffe/S7_H13_R3_IMAG4082.JPG\n\nimages/train/guineafowl\n\nimages/train/guineafowl/S2_V13_R1_IMAG0028.JPG\n\nimages/train/guineafowl/S2_V13_R1_IMAG0044.JPG\n\nimages/train/guineafowl/S2_V13_R1_IMAG0045.JPG\n\nimages/train/guineafowl/S4_O10_R1_IMAG0078.JPG\n\nimages/train/guineafowl/S4_O10_R1_IMAG0079.JPG\n\nimages/train/guineafowl/S4_O10_R1_IMAG0080.JPG\n\nimages/train/guineafowl/S5_C10_R1_IMAG1073.JPG\n\nimages/train/guineafowl/S5_C10_R1_IMAG1074.JPG\n\nimages/train/guineafowl/S6_S09_R1_IMAG1441.JPG\n\nimages/train/guineafowl/S6_S09_R1_IMAG1442.JPG\n\nimages/train/guineafowl/S6_S09_R1_IMAG1443.JPG\n\nimages/train/guineafowl/S6_S09_R1_IMAG1444.JPG\n\nimages/train/guineafowl/S6_S09_R1_IMAG1445.JPG\n\nimages/train/guineafowl/S6_S09_R1_IMAG1446.JPG\n\nimages/train/guineafowl/S9_O06_R3_IMAG0018.JPG\n\nimages/train/hare\n\nimages/train/hare/S2_V13_R1_IMAG0032.JPG\n\nimages/train/hartebeest\n\nimages/train/hartebeest/S10_L10_R2_IMAG0750.JPG\n\nimages/train/hartebeest/S10_L10_R2_IMAG0751.JPG\n\nimages/train/hartebeest/S10_L10_R2_IMAG0752.JPG\n\nimages/train/hartebeest/S2_F11_R3_IMAG2281.JPG\n\nimages/train/hartebeest/S2_F11_R3_IMAG2282.JPG\n\nimages/train/hartebeest/S2_F11_R3_IMAG2283.JPG\n\nimages/train/hartebeest/S2_F11_R3_IMAG2287.JPG\n\nimages/train/hartebeest/S2_F11_R3_IMAG2288.JPG\n\nimages/train/hartebeest/S2_F11_R3_IMAG2289.JPG\n\nimages/train/hartebeest/S2_F11_R3_IMAG2290.JPG\n\nimages/train/hartebeest/S2_N04_R3_IMAG0183.JPG\n\nimages/train/hartebeest/S2_N04_R3_IMAG0184.JPG\n\nimages/train/hartebeest/S2_N04_R3_IMAG0185.JPG\n\nimages/train/hartebeest/S2_N04_R3_IMAG0192.JPG\n\nimages/train/hartebeest/S2_R08_R2_IMAG0142.JPG\n\nimages/train/hartebeest/S2_R08_R2_IMAG0143.JPG\n\nimages/train/hartebeest/S2_R08_R2_IMAG0144.JPG\n\nimages/train/hartebeest/S2_R08_R2_IMAG0145.JPG\n\nimages/train/hartebeest/S2_R08_R2_IMAG0146.JPG\n\nimages/train/hartebeest/S5_K04_R2_IMAG0590.JPG\n\nimages/train/hartebeest/S5_K04_R2_IMAG0591.JPG\n\nimages/train/hartebeest/S5_K04_R2_IMAG0592.JPG\n\nimages/train/hartebeest/S5_K04_R2_IMAG0607.JPG\n\nimages/train/hartebeest/S5_K04_R2_IMAG0623.JPG\n\nimages/train/hartebeest/S5_K04_R2_IMAG0624.JPG\n\nimages/train/hartebeest/S5_K04_R2_IMAG0645.JPG\n\nimages/train/hartebeest/S5_K04_R2_IMAG0646.JPG\n\nimages/train/hartebeest/S5_K04_R2_IMAG0647.JPG\n\nimages/train/hartebeest/S5_K04_R2_IMAG0648.JPG\n\nimages/train/hartebeest/SER_S11_L10_R2_IMAG3449.JPG\n\nimages/train/hartebeest/SER_S11_L10_R2_IMAG3450.JPG\n\nimages/train/hartebeest/SER_S11_L10_R2_IMAG3451.JPG\n\nimages/train/hartebeest/SER_S11_L10_R2_IMAG3452.JPG\n\nimages/train/hartebeest/SER_S11_L10_R2_IMAG3453.JPG\n\nimages/train/hartebeest/SER_S11_L10_R2_IMAG3454.JPG\n\nimages/train/hartebeest/SER_S11_L10_R2_IMAG3455.JPG\n\nimages/train/hartebeest/SER_S11_L10_R2_IMAG3456.JPG\n\nimages/train/hartebeest/SER_S11_L10_R2_IMAG3457.JPG\n\nimages/train/hippopotamus\n\nimages/train/hippopotamus/S3_F12_R11_IMAG0127.JPG\n\nimages/train/hyenaspotted\n\nimages/train/hyenaspotted/S3_P04_R11_IMAG0022.JPG\n\nimages/train/hyenaspotted/S5_K04_R2_IMAG0606.JPG\n\nimages/train/hyenaspotted/S6_S09_R1_IMAG1419.JPG\n\nimages/train/hyenaspotted/S6_S09_R1_IMAG1420.JPG\n\nimages/train/hyenaspotted/S6_S09_R1_IMAG1421.JPG\n\nimages/train/hyenaspotted/S9_E06_R1_IMAG1889.JPG\n\nimages/train/hyenaspotted/S9_E06_R1_IMAG1891.JPG\n\nimages/train/hyenaspotted/S9_E09_R1_IMAG1116.JPG\n\nimages/train/hyenaspotted/S9_E09_R1_IMAG1117.JPG\n\nimages/train/hyenaspotted/S9_E09_R1_IMAG1118.JPG\n\nimages/train/hyenaspotted/SER_S11_L10_R2_IMAG0034.JPG\n\nimages/train/hyenaspotted/SER_S11_L10_R2_IMAG0035.JPG\n\nimages/train/hyenaspotted/SER_S11_L10_R2_IMAG0036.JPG\n\nimages/train/hyenaspotted/SER_S11_L10_R2_IMAG0037.JPG\n\nimages/train/hyenaspotted/SER_S11_L10_R2_IMAG0038.JPG\n\nimages/train/hyenaspotted/SER_S11_L10_R2_IMAG0039.JPG\n\nimages/train/hyenaspotted/SER_S11_L10_R2_IMAG3448.JPG\n\nimages/train/impala\n\nimages/train/impala/S10_H02_R2_IMAG2374.JPG\n\nimages/train/impala/S2_N04_R3_IMAG0182.JPG\n\nimages/train/impala/S3_E04_R12_IMAG0652.JPG\n\nimages/train/impala/S3_F01_R11_IMAG0206.JPG\n\nimages/train/impala/S3_F01_R11_IMAG0207.JPG\n\nimages/train/impala/S3_F01_R11_IMAG0208.JPG\n\nimages/train/impala/S3_F01_R11_IMAG0215.JPG\n\nimages/train/impala/S3_F01_R11_IMAG0216.JPG\n\nimages/train/impala/S3_F01_R11_IMAG0217.JPG\n\nimages/train/jackal\n\nimages/train/jackal/SER_S11_L10_R2_IMAG3473.JPG\n\nimages/train/jackal/SER_S11_L10_R2_IMAG3474.JPG\n\nimages/train/koribustard\n\nimages/train/koribustard/S1_H09_R1_PICT0380.JPG\n\nimages/train/koribustard/S1_H09_R1_PICT0381.JPG\n\nimages/train/koribustard/S1_H09_R1_PICT0382.JPG\n\nimages/train/koribustard/S3_O07_R12_IMAG0487.JPG\n\nimages/train/koribustard/S3_O07_R12_IMAG0488.JPG\n\nimages/train/koribustard/S3_O07_R12_IMAG0489.JPG\n\nimages/train/koribustard/S3_O07_R12_IMAG0490.JPG\n\nimages/train/koribustard/S3_O07_R12_IMAG0491.JPG\n\nimages/train/koribustard/S3_O07_R12_IMAG0492.JPG\n\nimages/train/koribustard/S3_O07_R12_IMAG0496.JPG\n\nimages/train/koribustard/S3_O07_R12_IMAG0497.JPG\n\nimages/train/koribustard/S3_O07_R12_IMAG0498.JPG\n\nimages/train/koribustard/S3_O07_R12_IMAG0502.JPG\n\nimages/train/koribustard/S3_O07_R12_IMAG0503.JPG\n\nimages/train/koribustard/S3_O07_R12_IMAG0504.JPG\n\nimages/train/koribustard/S3_O07_R12_IMAG0505.JPG\n\nimages/train/koribustard/S3_O07_R12_IMAG0506.JPG\n\nimages/train/koribustard/S3_O07_R12_IMAG0507.JPG\n\nimages/train/koribustard/S3_O07_R12_IMAG0508.JPG\n\nimages/train/koribustard/S3_O07_R12_IMAG0509.JPG\n\nimages/train/koribustard/S3_O07_R12_IMAG0510.JPG\n\nimages/train/koribustard/S3_O07_R12_IMAG0511.JPG\n\nimages/train/koribustard/S3_O07_R12_IMAG0512.JPG\n\nimages/train/leopard\n\nimages/train/leopard/S2_L04_R4_IMAG0053.JPG\n\nimages/train/leopard/S9_E06_R1_IMAG1890.JPG\n\nimages/train/lionfemale\n\nimages/train/lionfemale/S4_P07_R2_IMAG0183.JPG\n\nimages/train/lionfemale/S4_P07_R2_IMAG0184.JPG\n\nimages/train/lionfemale/S4_P07_R2_IMAG0185.JPG\n\nimages/train/lionfemale/S4_P07_R2_IMAG0186.JPG\n\nimages/train/lionfemale/S4_P07_R2_IMAG0187.JPG\n\nimages/train/lionfemale/S4_P07_R2_IMAG0188.JPG\n\nimages/train/lionfemale/S4_P07_R2_IMAG0189.JPG\n\nimages/train/lionfemale/S4_P07_R2_IMAG0190.JPG\n\nimages/train/lionfemale/S4_P07_R2_IMAG0191.JPG\n\nimages/train/lionfemale/S4_P07_R2_IMAG0192.JPG\n\nimages/train/lionfemale/S4_P07_R2_IMAG0193.JPG\n\nimages/train/lionfemale/S4_P07_R2_IMAG0194.JPG\n\nimages/train/lionfemale/S4_P07_R2_IMAG0195.JPG\n\nimages/train/lionfemale/S4_P07_R2_IMAG0196.JPG\n\nimages/train/lionfemale/S4_P07_R2_IMAG0197.JPG\n\nimages/train/lionfemale/SER_S11_L10_R2_IMAG0999.JPG\n\nimages/train/lionfemale/SER_S11_L10_R2_IMAG1000.JPG\n\nimages/train/lionfemale/SER_S11_L10_R2_IMAG1001.JPG\n\nimages/train/lionfemale/SER_S11_L10_R2_IMAG1002.JPG\n\nimages/train/lionfemale/SER_S11_L10_R2_IMAG1003.JPG\n\nimages/train/lionfemale/SER_S11_L10_R2_IMAG1004.JPG\n\nimages/train/lionfemale/SER_S11_L10_R2_IMAG1005.JPG\n\nimages/train/lionfemale/SER_S11_L10_R2_IMAG1006.JPG\n\nimages/train/lionfemale/SER_S11_L10_R2_IMAG1007.JPG\n\nimages/train/lionfemale/SER_S11_L10_R2_IMAG1008.JPG\n\nimages/train/lionfemale/SER_S11_L10_R2_IMAG1009.JPG\n\nimages/train/lionfemale/SER_S11_L10_R2_IMAG1010.JPG\n\nimages/train/lionfemale/SER_S11_L10_R2_IMAG1011.JPG\n\nimages/train/lionfemale/SER_S11_L10_R2_IMAG1012.JPG\n\nimages/train/lionfemale/SER_S11_L10_R2_IMAG1013.JPG\n\nimages/train/lionfemale/SER_S11_L10_R2_IMAG1014.JPG\n\nimages/train/lionfemale/SER_S11_L10_R2_IMAG1015.JPG\n\nimages/train/lionmale\n\nimages/train/lionmale/S3_P04_R11_IMAG0016.JPG\n\nimages/train/lionmale/S4_P07_R2_IMAG0159.JPG\n\nimages/train/lionmale/S4_P07_R2_IMAG0160.JPG\n\nimages/train/lionmale/S4_P07_R2_IMAG0179.JPG\n\nimages/train/lionmale/S4_P07_R2_IMAG0198.JPG\n\nimages/train/lionmale/S4_P07_R2_IMAG0199.JPG\n\nimages/train/lionmale/S4_P07_R2_IMAG0200.JPG\n\nimages/train/lionmale/S9_E09_R1_IMAG0986.JPG\n\nimages/train/lionmale/S9_E09_R1_IMAG0987.JPG\n\nimages/train/lionmale/S9_E09_R1_IMAG0988.JPG\n\nimages/train/lionmale/SER_S11_L10_R2_IMAG1007.JPG\n\nimages/train/lionmale/SER_S11_L10_R2_IMAG1008.JPG\n\nimages/train/lionmale/SER_S11_L10_R2_IMAG1009.JPG\n\nimages/train/ostrich\n\nimages/train/ostrich/S1_H09_R1_PICT0372.JPG\n\nimages/train/ostrich/S1_H09_R1_PICT0373.JPG\n\nimages/train/otherbird\n\nimages/train/otherbird/S1_E06_R4_PICT1004.JPG\n\nimages/train/otherbird/S1_E06_R4_PICT1005.JPG\n\nimages/train/otherbird/S1_E06_R4_PICT1006.JPG\n\nimages/train/otherbird/S2_Q07_R1_IMAG1480.JPG\n\nimages/train/otherbird/S2_Q07_R1_IMAG1481.JPG\n\nimages/train/otherbird/S2_Q07_R1_IMAG1482.JPG\n\nimages/train/otherbird/S3_O07_R12_IMAG0499.JPG\n\nimages/train/otherbird/S3_O07_R12_IMAG0500.JPG\n\nimages/train/otherbird/S3_O07_R12_IMAG0501.JPG\n\nimages/train/otherbird/S4_H05_R1_IMAG0096.JPG\n\nimages/train/otherbird/S4_H05_R1_IMAG0097.JPG\n\nimages/train/otherbird/S4_H05_R1_IMAG0098.JPG\n\nimages/train/otherbird/S4_O09_R2_IMAG1407.JPG\n\nimages/train/otherbird/S4_O09_R2_IMAG1408.JPG\n\nimages/train/otherbird/S4_O09_R2_IMAG1409.JPG\n\nimages/train/otherbird/S4_O09_R2_IMAG1410.JPG\n\nimages/train/otherbird/S4_O09_R2_IMAG1411.JPG\n\nimages/train/otherbird/S4_O09_R2_IMAG1412.JPG\n\nimages/train/otherbird/S7_H02_R1_IMAG1108.JPG\n\nimages/train/otherbird/SER_S11_L10_R2_IMAG3452.JPG\n\nimages/train/otherbird/SER_S11_L10_R2_IMAG3453.JPG\n\nimages/train/otherbird/SER_S11_L10_R2_IMAG3454.JPG\n\nimages/train/otherbird/SER_S11_L10_R2_IMAG3469.JPG\n\nimages/train/otherbird/SER_S11_L10_R2_IMAG3470.JPG\n\nimages/train/otherbird/SER_S11_L10_R2_IMAG3471.JPG\n\nimages/train/reedbuck\n\nimages/train/reedbuck/S3_F01_R11_IMAG0212.JPG\n\nimages/train/reedbuck/S3_F01_R11_IMAG0213.JPG\n\nimages/train/reedbuck/S3_F01_R11_IMAG0214.JPG\n\nimages/train/reedbuck/S3_F12_R11_IMAG0121.JPG\n\nimages/train/reedbuck/S3_O10_R12_IMAG0567.JPG\n\nimages/train/serval\n\nimages/train/serval/S7_D06_R2_IMAG0048.JPG\n\nimages/train/serval/S7_D06_R2_IMAG0049.JPG\n\nimages/train/serval/S7_D06_R2_IMAG0050.JPG\n\nimages/train/serval/S8_O11_R1_IMAG0254.JPG\n\nimages/train/serval/S9_E09_R1_IMAG1219.JPG\n\nimages/train/serval/S9_E09_R1_IMAG1220.JPG\n\nimages/train/serval/S9_E09_R1_IMAG1221.JPG\n\nimages/train/serval/S9_E09_R1_IMAG1222.JPG\n\nimages/train/serval/S9_E09_R1_IMAG1223.JPG\n\nimages/train/serval/S9_E09_R1_IMAG1224.JPG\n\nimages/train/topi\n\nimages/train/topi/S10_H02_R2_IMAG2375.JPG\n\nimages/train/topi/S10_H02_R2_IMAG2376.JPG\n\nimages/train/topi/S3_F12_R11_IMAG0126.JPG\n\nimages/train/topi/S5_K04_R2_IMAG0611.JPG\n\nimages/train/topi/S5_K04_R2_IMAG0612.JPG\n\nimages/train/topi/S5_K04_R2_IMAG0613.JPG\n\nimages/train/warthog\n\nimages/train/warthog/S3_F01_R11_IMAG0218.JPG\n\nimages/train/warthog/S3_F01_R11_IMAG0219.JPG\n\nimages/train/warthog/S3_F01_R11_IMAG0220.JPG\n\nimages/train/warthog/S3_F01_R11_IMAG0224.JPG\n\nimages/train/warthog/S3_F01_R11_IMAG0225.JPG\n\nimages/train/warthog/S3_F01_R11_IMAG0226.JPG\n\nimages/train/warthog/S7_D06_R2_IMAG0044.JPG\n\nimages/train/warthog/S7_D06_R2_IMAG0045.JPG\n\nimages/train/warthog/S7_D06_R2_IMAG0046.JPG\n\nimages/train/warthog/S9_E06_R1_IMAG1879.JPG\n\nimages/train/warthog/S9_E06_R1_IMAG1880.JPG\n\nimages/train/warthog/S9_E06_R1_IMAG1881.JPG\n\nimages/train/warthog/S9_E06_R1_IMAG1882.JPG\n\nimages/train/waterbuck\n\nimages/train/waterbuck/S2_V11_R3_PICT0321.JPG\n\nimages/train/waterbuck/S2_V11_R3_PICT0322.JPG\n\nimages/train/waterbuck/S2_V11_R3_PICT0323.JPG\n\nimages/train/waterbuck/S7_I01_R1_IMAG0017.JPG\n\nimages/train/waterbuck/S7_I01_R1_IMAG0018.JPG\n\nimages/train/waterbuck/S7_I01_R1_IMAG0019.JPG\n\nimages/train/waterbuck/S7_I01_R1_IMAG0023.JPG\n\nimages/train/waterbuck/S7_I01_R1_IMAG0024.JPG\n\nimages/train/waterbuck/S7_I01_R1_IMAG0025.JPG\n\nimages/train/waterbuck/S7_I01_R1_IMAG0026.JPG\n\nimages/train/waterbuck/S7_I01_R1_IMAG0027.JPG\n\nimages/train/waterbuck/S7_I01_R1_IMAG0028.JPG\n\nimages/train/wildebeest\n\nimages/train/wildebeest/S10_H02_R2_IMAG2356.JPG\n\nimages/train/wildebeest/S10_O05_R1_IMAG2504.JPG\n\nimages/train/wildebeest/S10_O05_R1_IMAG2505.JPG\n\nimages/train/wildebeest/S10_O05_R1_IMAG2506.JPG\n\nimages/train/wildebeest/S10_O05_R1_IMAG2507.JPG\n\nimages/train/wildebeest/S10_O05_R1_IMAG2508.JPG\n\nimages/train/wildebeest/S10_O05_R1_IMAG2509.JPG\n\nimages/train/wildebeest/S10_O05_R1_IMAG2510.JPG\n\nimages/train/wildebeest/S10_O05_R1_IMAG2511.JPG\n\nimages/train/wildebeest/S2_B07_R3_PICT0422.JPG\n\nimages/train/wildebeest/S2_B07_R3_PICT0423.JPG\n\nimages/train/wildebeest/S2_B07_R3_PICT0448.JPG\n\nimages/train/wildebeest/S2_B07_R3_PICT0449.JPG\n\nimages/train/wildebeest/S2_B07_R3_PICT0450.JPG\n\nimages/train/wildebeest/S2_B07_R3_PICT0451.JPG\n\nimages/train/wildebeest/S2_B07_R3_PICT0452.JPG\n\nimages/train/wildebeest/S2_B07_R3_PICT0453.JPG\n\nimages/train/wildebeest/S2_B07_R3_PICT0454.JPG\n\nimages/train/wildebeest/S2_B07_R3_PICT0455.JPG\n\nimages/train/wildebeest/S2_B07_R3_PICT0456.JPG\n\nimages/train/wildebeest/S2_B07_R3_PICT0457.JPG\n\nimages/train/wildebeest/S2_B07_R3_PICT0458.JPG\n\nimages/train/wildebeest/S2_B07_R3_PICT0459.JPG\n\nimages/train/wildebeest/S2_C04_R3_IMAG0184.JPG\n\nimages/train/wildebeest/S2_C04_R3_IMAG0185.JPG\n\nimages/train/wildebeest/S2_C04_R3_IMAG0186.JPG\n\nimages/train/wildebeest/S2_C04_R3_IMAG0305.JPG\n\nimages/train/wildebeest/S2_C04_R3_IMAG0306.JPG\n\nimages/train/wildebeest/S2_C04_R3_IMAG0307.JPG\n\nimages/train/wildebeest/S2_D12_R2_PICT0149.JPG\n\nimages/train/wildebeest/S2_D12_R2_PICT0150.JPG\n\nimages/train/wildebeest/S2_D12_R2_PICT0151.JPG\n\nimages/train/wildebeest/S2_D12_R2_PICT0152.JPG\n\nimages/train/wildebeest/S2_D12_R2_PICT0153.JPG\n\nimages/train/wildebeest/S2_D12_R2_PICT0154.JPG\n\nimages/train/wildebeest/S2_D12_R2_PICT0155.JPG\n\nimages/train/wildebeest/S2_D12_R2_PICT0156.JPG\n\nimages/train/wildebeest/S2_D12_R2_PICT0157.JPG\n\nimages/train/wildebeest/S2_D12_R2_PICT0161.JPG\n\nimages/train/wildebeest/S2_D12_R2_PICT0162.JPG\n\nimages/train/wildebeest/S2_D12_R2_PICT0163.JPG\n\nimages/train/wildebeest/S2_D12_R2_PICT0164.JPG\n\nimages/train/wildebeest/S2_D12_R2_PICT0165.JPG\n\nimages/train/wildebeest/S2_D12_R2_PICT0166.JPG\n\nimages/train/wildebeest/S2_D12_R2_PICT0167.JPG\n\nimages/train/wildebeest/S2_D12_R2_PICT0168.JPG\n\nimages/train/wildebeest/S2_E04_R3_IMAG1621.JPG\n\nimages/train/wildebeest/S2_E04_R3_IMAG1622.JPG\n\nimages/train/wildebeest/S2_E04_R3_IMAG1623.JPG\n\nimages/train/wildebeest/S2_F11_R3_IMAG2284.JPG\n\nimages/train/wildebeest/S2_F11_R3_IMAG2285.JPG\n\nimages/train/wildebeest/S2_F11_R3_IMAG2286.JPG\n\nimages/train/wildebeest/S2_K03_R2_IMAG0582.JPG\n\nimages/train/wildebeest/S2_K03_R2_IMAG0583.JPG\n\nimages/train/wildebeest/S2_K03_R2_IMAG0584.JPG\n\nimages/train/wildebeest/S2_K03_R2_IMAG0585.JPG\n\nimages/train/wildebeest/S2_K03_R2_IMAG0586.JPG\n\nimages/train/wildebeest/S2_K03_R2_IMAG0587.JPG\n\nimages/train/wildebeest/S2_K03_R2_IMAG0588.JPG\n\nimages/train/wildebeest/S2_K03_R2_IMAG0589.JPG\n\nimages/train/wildebeest/S2_K03_R2_IMAG0590.JPG\n\nimages/train/wildebeest/S2_K03_R2_IMAG0591.JPG\n\nimages/train/wildebeest/S2_K03_R2_IMAG0592.JPG\n\nimages/train/wildebeest/S2_K03_R2_IMAG0593.JPG\n\nimages/train/wildebeest/S2_K03_R2_IMAG0594.JPG\n\nimages/train/wildebeest/S2_K03_R2_IMAG0595.JPG\n\nimages/train/wildebeest/S2_K03_R2_IMAG0596.JPG\n\nimages/train/wildebeest/S3_H09_R12_IMAG0138.JPG\n\nimages/train/wildebeest/S3_H09_R12_IMAG0141.JPG\n\nimages/train/wildebeest/S3_H09_R12_IMAG0142.JPG\n\nimages/train/wildebeest/S3_H09_R12_IMAG0143.JPG\n\nimages/train/wildebeest/S3_H09_R12_IMAG0144.JPG\n\nimages/train/wildebeest/S3_H09_R12_IMAG0145.JPG\n\nimages/train/wildebeest/S3_H09_R12_IMAG0148.JPG\n\nimages/train/wildebeest/S3_H09_R12_IMAG0149.JPG\n\nimages/train/wildebeest/S3_H09_R12_IMAG0150.JPG\n\nimages/train/wildebeest/S3_H09_R12_IMAG0151.JPG\n\nimages/train/wildebeest/S3_H09_R12_IMAG0152.JPG\n\nimages/train/wildebeest/S3_H09_R12_IMAG0153.JPG\n\nimages/train/wildebeest/S3_H09_R12_IMAG0155.JPG\n\nimages/train/wildebeest/S3_H09_R12_IMAG0156.JPG\n\nimages/train/wildebeest/S3_K05_R12_IMAG0408.JPG\n\nimages/train/wildebeest/S3_K05_R12_IMAG0409.JPG\n\nimages/train/wildebeest/S3_K05_R12_IMAG0410.JPG\n\nimages/train/wildebeest/S3_K05_R12_IMAG0411.JPG\n\nimages/train/wildebeest/S3_K05_R12_IMAG0412.JPG\n\nimages/train/wildebeest/S3_K05_R12_IMAG0413.JPG\n\nimages/train/wildebeest/S3_K05_R12_IMAG0414.JPG\n\nimages/train/wildebeest/S3_K05_R12_IMAG0415.JPG\n\nimages/train/wildebeest/S3_K05_R12_IMAG0416.JPG\n\nimages/train/wildebeest/S3_K05_R12_IMAG0417.JPG\n\nimages/train/wildebeest/S3_K05_R12_IMAG0418.JPG\n\nimages/train/wildebeest/S3_K05_R12_IMAG0419.JPG\n\nimages/train/wildebeest/S3_K05_R12_IMAG0420.JPG\n\nimages/train/wildebeest/S3_K05_R12_IMAG0421.JPG\n\nimages/train/wildebeest/S3_K05_R12_IMAG0422.JPG\n\nimages/train/wildebeest/S3_K05_R12_IMAG0423.JPG\n\nimages/train/wildebeest/S3_K05_R12_IMAG0424.JPG\n\nimages/train/wildebeest/S3_K05_R12_IMAG0425.JPG\n\nimages/train/wildebeest/S3_K05_R12_IMAG0426.JPG\n\nimages/train/wildebeest/S3_K05_R12_IMAG0427.JPG\n\nimages/train/wildebeest/S3_N05_R11_IMAG1007.JPG\n\nimages/train/wildebeest/S3_N05_R11_IMAG1008.JPG\n\nimages/train/wildebeest/S3_N05_R11_IMAG1009.JPG\n\nimages/train/wildebeest/S3_N05_R11_IMAG1010.JPG\n\nimages/train/wildebeest/S3_N05_R11_IMAG1012.JPG\n\nimages/train/wildebeest/S3_N05_R11_IMAG1013.JPG\n\nimages/train/wildebeest/S4_D06_R2_IMAG1645.JPG\n\nimages/train/wildebeest/S4_D06_R2_IMAG1646.JPG\n\nimages/train/wildebeest/S4_D06_R2_IMAG1647.JPG\n\nimages/train/wildebeest/S4_D06_R2_IMAG1648.JPG\n\nimages/train/wildebeest/S4_D06_R2_IMAG1649.JPG\n\nimages/train/wildebeest/S4_D06_R2_IMAG1650.JPG\n\nimages/train/wildebeest/S4_E06_R2_IMAG0373.JPG\n\nimages/train/wildebeest/S4_E06_R2_IMAG0374.JPG\n\nimages/train/wildebeest/S4_E06_R2_IMAG0375.JPG\n\nimages/train/wildebeest/S4_E06_R2_IMAG0376.JPG\n\nimages/train/wildebeest/S4_E06_R2_IMAG0377.JPG\n\nimages/train/wildebeest/S4_E06_R2_IMAG0378.JPG\n\nimages/train/wildebeest/S4_E06_R2_IMAG0379.JPG\n\nimages/train/wildebeest/S4_E06_R2_IMAG0380.JPG\n\nimages/train/wildebeest/S4_E06_R2_IMAG0381.JPG\n\nimages/train/wildebeest/S4_E06_R2_IMAG0382.JPG\n\nimages/train/wildebeest/S4_E06_R2_IMAG0383.JPG\n\nimages/train/wildebeest/S4_E06_R2_IMAG0384.JPG\n\nimages/train/wildebeest/S4_E06_R2_IMAG0385.JPG\n\nimages/train/wildebeest/S4_E06_R2_IMAG0386.JPG\n\nimages/train/wildebeest/S4_E06_R2_IMAG0387.JPG\n\nimages/train/wildebeest/S4_E06_R2_IMAG0388.JPG\n\nimages/train/wildebeest/S4_E06_R2_IMAG0392.JPG\n\nimages/train/wildebeest/S4_E06_R2_IMAG0393.JPG\n\nimages/train/wildebeest/S4_E06_R2_IMAG0394.JPG\n\nimages/train/wildebeest/S4_O06_R2_IMAG0848.JPG\n\nimages/train/wildebeest/S4_O06_R2_IMAG0849.JPG\n\nimages/train/wildebeest/S4_O06_R2_IMAG0850.JPG\n\nimages/train/wildebeest/S4_O06_R2_IMAG0851.JPG\n\nimages/train/wildebeest/S4_O06_R2_IMAG0852.JPG\n\nimages/train/wildebeest/S4_O06_R2_IMAG0853.JPG\n\nimages/train/wildebeest/S4_O06_R2_IMAG0854.JPG\n\nimages/train/wildebeest/S4_O06_R2_IMAG0855.JPG\n\nimages/train/wildebeest/S4_O06_R2_IMAG0856.JPG\n\nimages/train/wildebeest/S4_O06_R2_IMAG0857.JPG\n\nimages/train/wildebeest/S4_P09_R2_IMAG3991.JPG\n\nimages/train/wildebeest/S4_P09_R2_IMAG3992.JPG\n\nimages/train/wildebeest/S4_P09_R2_IMAG3993.JPG\n\nimages/train/wildebeest/S4_P09_R2_IMAG3994.JPG\n\nimages/train/wildebeest/S4_P09_R2_IMAG4001.JPG\n\nimages/train/wildebeest/S4_P09_R2_IMAG4002.JPG\n\nimages/train/wildebeest/S4_P09_R2_IMAG4003.JPG\n\nimages/train/wildebeest/S4_P09_R2_IMAG4004.JPG\n\nimages/train/wildebeest/S4_P09_R2_IMAG4005.JPG\n\nimages/train/wildebeest/S4_P09_R2_IMAG4006.JPG\n\nimages/train/wildebeest/S5_B13_R3_IMAG2612.JPG\n\nimages/train/wildebeest/S5_B13_R3_IMAG2613.JPG\n\nimages/train/wildebeest/S5_B13_R3_IMAG2614.JPG\n\nimages/train/wildebeest/S5_B13_R3_IMAG2624.JPG\n\nimages/train/wildebeest/S5_B13_R3_IMAG2625.JPG\n\nimages/train/wildebeest/S5_B13_R3_IMAG2626.JPG\n\nimages/train/wildebeest/S5_C10_R1_IMAG1078.JPG\n\nimages/train/wildebeest/S5_C10_R1_IMAG1079.JPG\n\nimages/train/wildebeest/S5_E12_R3_IMAG2672.JPG\n\nimages/train/wildebeest/S5_E12_R3_IMAG2673.JPG\n\nimages/train/wildebeest/S5_E12_R3_IMAG2674.JPG\n\nimages/train/wildebeest/S5_E12_R3_IMAG2675.JPG\n\nimages/train/wildebeest/S5_E12_R3_IMAG2676.JPG\n\nimages/train/wildebeest/S5_E12_R3_IMAG2677.JPG\n\nimages/train/wildebeest/S5_E12_R3_IMAG2678.JPG\n\nimages/train/wildebeest/S5_E12_R3_IMAG2679.JPG\n\nimages/train/wildebeest/S5_E12_R3_IMAG2680.JPG\n\nimages/train/wildebeest/S5_E12_R3_IMAG2681.JPG\n\nimages/train/wildebeest/S5_E12_R3_IMAG2682.JPG\n\nimages/train/wildebeest/S5_E12_R3_IMAG2683.JPG\n\nimages/train/wildebeest/S5_E12_R3_IMAG2684.JPG\n\nimages/train/wildebeest/S5_E12_R3_IMAG2685.JPG\n\nimages/train/wildebeest/S5_E12_R3_IMAG2686.JPG\n\nimages/train/wildebeest/S5_E12_R3_IMAG2687.JPG\n\nimages/train/wildebeest/S5_T09_R4_IMAG0246.JPG\n\nimages/train/wildebeest/S5_T09_R4_IMAG0247.JPG\n\nimages/train/wildebeest/S5_T09_R4_IMAG0248.JPG\n\nimages/train/wildebeest/S5_T09_R4_IMAG0249.JPG\n\nimages/train/wildebeest/S5_T09_R4_IMAG0250.JPG\n\nimages/train/wildebeest/S5_T09_R4_IMAG0251.JPG\n\nimages/train/wildebeest/S5_T09_R4_IMAG0252.JPG\n\nimages/train/wildebeest/S5_T09_R4_IMAG0253.JPG\n\nimages/train/wildebeest/S5_T09_R4_IMAG0254.JPG\n\nimages/train/wildebeest/S5_T09_R4_IMAG0255.JPG\n\nimages/train/wildebeest/S5_T09_R4_IMAG0256.JPG\n\nimages/train/wildebeest/S5_T09_R4_IMAG0372.JPG\n\nimages/train/wildebeest/S5_T09_R4_IMAG0373.JPG\n\nimages/train/wildebeest/S5_T09_R4_IMAG0374.JPG\n\nimages/train/wildebeest/S5_T09_R4_IMAG0375.JPG\n\nimages/train/wildebeest/S5_T09_R4_IMAG0376.JPG\n\nimages/train/wildebeest/S5_T09_R4_IMAG0377.JPG\n\nimages/train/wildebeest/S5_T09_R4_IMAG0378.JPG\n\nimages/train/wildebeest/S5_T09_R4_IMAG0379.JPG\n\nimages/train/wildebeest/S5_T09_R4_IMAG0380.JPG\n\nimages/train/wildebeest/S5_T09_R4_IMAG0381.JPG\n\nimages/train/wildebeest/S5_T09_R4_IMAG0382.JPG\n\nimages/train/wildebeest/S5_T09_R4_IMAG0383.JPG\n\nimages/train/wildebeest/S5_T09_R4_IMAG0384.JPG\n\nimages/train/wildebeest/S5_T09_R4_IMAG0385.JPG\n\nimages/train/wildebeest/S5_T09_R4_IMAG0386.JPG\n\nimages/train/wildebeest/S5_T09_R4_IMAG0387.JPG\n\nimages/train/wildebeest/S5_T09_R4_IMAG0388.JPG\n\nimages/train/wildebeest/S5_T09_R4_IMAG0389.JPG\n\nimages/train/wildebeest/S5_T09_R4_IMAG0390.JPG\n\nimages/train/wildebeest/S5_T09_R4_IMAG0391.JPG\n\nimages/train/wildebeest/S5_T09_R4_IMAG0392.JPG\n\nimages/train/wildebeest/S5_T09_R4_IMAG0393.JPG\n\nimages/train/wildebeest/S5_T09_R4_IMAG0394.JPG\n\nimages/train/wildebeest/S5_T13_R4_IMAG1697.JPG\n\nimages/train/wildebeest/S5_T13_R4_IMAG1698.JPG\n\nimages/train/wildebeest/S5_T13_R4_IMAG1699.JPG\n\nimages/train/wildebeest/S5_T13_R4_IMAG1700.JPG\n\nimages/train/wildebeest/S5_T13_R4_IMAG1701.JPG\n\nimages/train/wildebeest/S5_T13_R4_IMAG1702.JPG\n\nimages/train/wildebeest/S5_T13_R4_IMAG1703.JPG\n\nimages/train/wildebeest/S5_T13_R4_IMAG1704.JPG\n\nimages/train/wildebeest/S5_T13_R4_IMAG1705.JPG\n\nimages/train/wildebeest/S5_T13_R4_IMAG1706.JPG\n\nimages/train/wildebeest/S5_T13_R4_IMAG1707.JPG\n\nimages/train/wildebeest/S5_U12_R1_IMAG0404.JPG\n\nimages/train/wildebeest/S5_U12_R1_IMAG0405.JPG\n\nimages/train/wildebeest/S5_U12_R1_IMAG0406.JPG\n\nimages/train/wildebeest/S5_U12_R1_IMAG0407.JPG\n\nimages/train/wildebeest/S5_U12_R1_IMAG0408.JPG\n\nimages/train/wildebeest/S5_U12_R1_IMAG0409.JPG\n\nimages/train/wildebeest/S5_U12_R1_IMAG0410.JPG\n\nimages/train/wildebeest/S5_U12_R1_IMAG0411.JPG\n\nimages/train/wildebeest/S5_U12_R1_IMAG0412.JPG\n\nimages/train/wildebeest/S5_U12_R1_IMAG0413.JPG\n\nimages/train/wildebeest/S5_U12_R1_IMAG0414.JPG\n\nimages/train/wildebeest/S5_U12_R1_IMAG0415.JPG\n\nimages/train/wildebeest/S5_U12_R1_IMAG0416.JPG\n\nimages/train/wildebeest/S5_U12_R1_IMAG0417.JPG\n\nimages/train/wildebeest/S5_U12_R1_IMAG0418.JPG\n\nimages/train/wildebeest/S9_E09_R1_IMAG1125.JPG\n\nimages/train/wildebeest/S9_E09_R1_IMAG1126.JPG\n\nimages/train/wildebeest/S9_E09_R1_IMAG1127.JPG\n\nimages/train/wildebeest/S9_I07_R3_IMAG0867.JPG\n\nimages/train/wildebeest/S9_I07_R3_IMAG0868.JPG\n\nimages/train/wildebeest/S9_I07_R3_IMAG0869.JPG\n\nimages/train/wildebeest/S9_I07_R3_IMAG0870.JPG\n\nimages/train/wildebeest/S9_I07_R3_IMAG0871.JPG\n\nimages/train/wildebeest/S9_J13_R2_IMAG0561.JPG\n\nimages/train/wildebeest/S9_J13_R2_IMAG0562.JPG\n\nimages/train/wildebeest/S9_J13_R2_IMAG0563.JPG\n\nimages/train/wildebeest/S9_J13_R2_IMAG0564.JPG\n\nimages/train/wildebeest/S9_J13_R2_IMAG0565.JPG\n\nimages/train/wildebeest/S9_J13_R2_IMAG0566.JPG\n\nimages/train/wildebeest/S9_J13_R2_IMAG0567.JPG\n\nimages/train/wildebeest/S9_J13_R2_IMAG0568.JPG\n\nimages/train/wildebeest/S9_J13_R2_IMAG0569.JPG\n\nimages/train/wildebeest/S9_J13_R2_IMAG0570.JPG\n\nimages/train/wildebeest/S9_J13_R2_IMAG0571.JPG\n\nimages/train/wildebeest/S9_J13_R2_IMAG0572.JPG\n\nimages/train/wildebeest/S9_J13_R2_IMAG0573.JPG\n\nimages/train/wildebeest/S9_J13_R2_IMAG0574.JPG\n\nimages/train/wildebeest/S9_J13_R2_IMAG0575.JPG\n\nimages/train/wildebeest/S9_J13_R2_IMAG0576.JPG\n\nimages/train/wildebeest/S9_J13_R2_IMAG0577.JPG\n\nimages/train/wildebeest/S9_J13_R2_IMAG0578.JPG\n\nimages/train/wildebeest/S9_J13_R2_IMAG0579.JPG\n\nimages/train/wildebeest/S9_J13_R2_IMAG0580.JPG\n\nimages/train/wildebeest/S9_J13_R2_IMAG0581.JPG\n\nimages/train/wildebeest/S9_J13_R2_IMAG0582.JPG\n\nimages/train/wildebeest/S9_J13_R2_IMAG0583.JPG\n\nimages/train/wildebeest/S9_O08_R2_IMAG2167.JPG\n\nimages/train/wildebeest/S9_O08_R2_IMAG2168.JPG\n\nimages/train/wildebeest/S9_O08_R2_IMAG2169.JPG\n\nimages/train/wildebeest/S9_O08_R2_IMAG2170.JPG\n\nimages/train/wildebeest/S9_O08_R2_IMAG2171.JPG\n\nimages/train/wildebeest/S9_O08_R2_IMAG2172.JPG\n\nimages/train/wildebeest/SER_S11_J02_R1_IMAG0321.JPG\n\nimages/train/wildebeest/SER_S11_J02_R1_IMAG0322.JPG\n\nimages/train/wildebeest/SER_S11_J02_R1_IMAG0323.JPG\n\nimages/train/wildebeest/SER_S11_J02_R1_IMAG0324.JPG\n\nimages/train/wildebeest/SER_S11_J02_R1_IMAG0325.JPG\n\nimages/train/wildebeest/SER_S11_J02_R1_IMAG0326.JPG\n\nimages/train/wildebeest/SER_S11_J02_R1_IMAG0327.JPG\n\nimages/train/wildebeest/SER_S11_J02_R1_IMAG0328.JPG\n\nimages/train/wildebeest/SER_S11_J02_R1_IMAG0329.JPG\n\nimages/train/wildebeest/SER_S11_J02_R1_IMAG0330.JPG\n\nimages/train/wildebeest/SER_S11_J02_R1_IMAG0331.JPG\n\nimages/train/wildebeest/SER_S11_J02_R1_IMAG0332.JPG\n\nimages/train/wildebeest/SER_S11_J02_R1_IMAG0333.JPG\n\nimages/train/wildebeest/SER_S11_J02_R1_IMAG0334.JPG\n\nimages/train/wildebeest/SER_S11_J02_R1_IMAG0335.JPG\n\nimages/train/wildebeest/SER_S11_J02_R1_IMAG0336.JPG\n\nimages/train/wildebeest/SER_S11_J02_R1_IMAG0337.JPG\n\nimages/train/wildebeest/SER_S11_O05_R2_IMAG0376.JPG\n\nimages/train/wildebeest/SER_S11_O05_R2_IMAG0377.JPG\n\nimages/train/wildebeest/SER_S11_O05_R2_IMAG0378.JPG\n\nimages/train/wildebeest/SER_S11_O05_R2_IMAG0379.JPG\n\nimages/train/wildebeest/SER_S11_O05_R2_IMAG0380.JPG\n\nimages/train/wildebeest/SER_S11_O05_R2_IMAG0381.JPG\n\nimages/train/wildebeest/SER_S11_O05_R2_IMAG0382.JPG\n\nimages/train/wildebeest/SER_S11_O05_R2_IMAG0383.JPG\n\nimages/train/wildebeest/SER_S11_O05_R2_IMAG0384.JPG\n\nimages/train/wildebeest/SER_S11_O05_R2_IMAG0385.JPG\n\nimages/train/wildebeest/SER_S11_O05_R2_IMAG0386.JPG\n\nimages/train/wildebeest/SER_S11_O05_R2_IMAG0387.JPG\n\nimages/train/wildebeest/SER_S11_O05_R2_IMAG0388.JPG\n\nimages/train/wildebeest/SER_S11_O05_R2_IMAG0389.JPG\n\nimages/train/wildebeest/SER_S11_O05_R2_IMAG0390.JPG\n\nimages/train/wildebeest/SER_S11_O05_R2_IMAG0391.JPG\n\nimages/train/wildebeest/SER_S11_O05_R2_IMAG0392.JPG\n\nimages/train/wildebeest/SER_S11_O05_R2_IMAG0393.JPG\n\nimages/train/wildebeest/SER_S11_O05_R2_IMAG0394.JPG\n\nimages/train/wildebeest/SER_S11_O05_R2_IMAG0395.JPG\n\nimages/train/wildebeest/SER_S11_O05_R2_IMAG0396.JPG\n\nimages/train/wildebeest/SER_S11_O05_R2_IMAG0397.JPG\n\nimages/train/wildebeest/SER_S11_O05_R2_IMAG0398.JPG\n\nimages/train/zebra\n\nimages/train/zebra/S10_H02_R2_IMAG2354.JPG\n\nimages/train/zebra/S10_H02_R2_IMAG2355.JPG\n\nimages/train/zebra/S10_H02_R2_IMAG2356.JPG\n\nimages/train/zebra/S10_H02_R2_IMAG2357.JPG\n\nimages/train/zebra/S10_H02_R2_IMAG2358.JPG\n\nimages/train/zebra/S10_H02_R2_IMAG2359.JPG\n\nimages/train/zebra/S10_H02_R2_IMAG2360.JPG\n\nimages/train/zebra/S10_H02_R2_IMAG2361.JPG\n\nimages/train/zebra/S10_H02_R2_IMAG2362.JPG\n\nimages/train/zebra/S10_H02_R2_IMAG2363.JPG\n\nimages/train/zebra/S10_H02_R2_IMAG2364.JPG\n\nimages/train/zebra/S10_H02_R2_IMAG2365.JPG\n\nimages/train/zebra/S10_H02_R2_IMAG2366.JPG\n\nimages/train/zebra/S10_H02_R2_IMAG2367.JPG\n\nimages/train/zebra/S10_H02_R2_IMAG2368.JPG\n\nimages/train/zebra/S10_H02_R2_IMAG2369.JPG\n\nimages/train/zebra/S10_H02_R2_IMAG2370.JPG\n\nimages/train/zebra/S10_H02_R2_IMAG2371.JPG\n\nimages/train/zebra/S10_I11_R2_IMAG0277.JPG\n\nimages/train/zebra/S10_O05_R1_IMAG2503.JPG\n\nimages/train/zebra/S10_O05_R1_IMAG2504.JPG\n\nimages/train/zebra/S10_O05_R1_IMAG2505.JPG\n\nimages/train/zebra/S10_O05_R1_IMAG2506.JPG\n\nimages/train/zebra/S10_O05_R1_IMAG2507.JPG\n\nimages/train/zebra/S10_O05_R1_IMAG2508.JPG\n\nimages/train/zebra/S10_O05_R1_IMAG2509.JPG\n\nimages/train/zebra/S10_O05_R1_IMAG2510.JPG\n\nimages/train/zebra/S2_B07_R3_PICT0433.JPG\n\nimages/train/zebra/S2_B07_R3_PICT0434.JPG\n\nimages/train/zebra/S2_B07_R3_PICT0435.JPG\n\nimages/train/zebra/S2_E04_R3_IMAG1612.JPG\n\nimages/train/zebra/S2_E04_R3_IMAG1613.JPG\n\nimages/train/zebra/S2_E04_R3_IMAG1614.JPG\n\nimages/train/zebra/S2_E04_R3_IMAG1615.JPG\n\nimages/train/zebra/S2_E04_R3_IMAG1616.JPG\n\nimages/train/zebra/S2_E04_R3_IMAG1617.JPG\n\nimages/train/zebra/S2_K03_R2_IMAG0580.JPG\n\nimages/train/zebra/S2_K03_R2_IMAG0581.JPG\n\nimages/train/zebra/S2_K03_R2_IMAG0585.JPG\n\nimages/train/zebra/S2_K03_R2_IMAG0586.JPG\n\nimages/train/zebra/S2_K03_R2_IMAG0587.JPG\n\nimages/train/zebra/S2_K03_R2_IMAG0588.JPG\n\nimages/train/zebra/S2_K03_R2_IMAG0589.JPG\n\nimages/train/zebra/S2_K03_R2_IMAG0590.JPG\n\nimages/train/zebra/S2_K07_R3_IMAG0218.JPG\n\nimages/train/zebra/S2_K07_R3_IMAG0219.JPG\n\nimages/train/zebra/S2_K07_R3_IMAG0220.JPG\n\nimages/train/zebra/S2_K07_R3_IMAG0221.JPG\n\nimages/train/zebra/S2_K07_R3_IMAG0222.JPG\n\nimages/train/zebra/S2_K07_R3_IMAG0223.JPG\n\nimages/train/zebra/S2_K07_R3_IMAG0224.JPG\n\nimages/train/zebra/S2_K07_R3_IMAG0225.JPG\n\nimages/train/zebra/S2_K07_R3_IMAG0226.JPG\n\nimages/train/zebra/S2_K07_R3_IMAG0227.JPG\n\nimages/train/zebra/S2_K07_R3_IMAG0228.JPG\n\nimages/train/zebra/S2_K07_R3_IMAG0229.JPG\n\nimages/train/zebra/S2_K07_R3_IMAG0230.JPG\n\nimages/train/zebra/S2_K07_R3_IMAG0231.JPG\n\nimages/train/zebra/S2_Q07_R1_IMAG1464.JPG\n\nimages/train/zebra/S2_Q07_R1_IMAG1465.JPG\n\nimages/train/zebra/S2_Q07_R1_IMAG1466.JPG\n\nimages/train/zebra/S2_Q07_R1_IMAG1467.JPG\n\nimages/train/zebra/S2_Q07_R1_IMAG1468.JPG\n\nimages/train/zebra/S2_Q07_R1_IMAG1469.JPG\n\nimages/train/zebra/S2_Q07_R1_IMAG1470.JPG\n\nimages/train/zebra/S2_Q07_R1_IMAG1471.JPG\n\nimages/train/zebra/S2_Q07_R1_IMAG1472.JPG\n\nimages/train/zebra/S2_Q07_R1_IMAG1473.JPG\n\nimages/train/zebra/S2_Q07_R1_IMAG1474.JPG\n\nimages/train/zebra/S2_Q07_R1_IMAG1475.JPG\n\nimages/train/zebra/S2_Q07_R1_IMAG1476.JPG\n\nimages/train/zebra/S2_Q07_R1_IMAG1477.JPG\n\nimages/train/zebra/S2_Q07_R1_IMAG1478.JPG\n\nimages/train/zebra/S2_Q07_R1_IMAG1479.JPG\n\nimages/train/zebra/S2_Q07_R1_IMAG1480.JPG\n\nimages/train/zebra/S2_Q07_R1_IMAG1481.JPG\n\nimages/train/zebra/S2_Q07_R1_IMAG1482.JPG\n\nimages/train/zebra/S3_F12_R11_IMAG0131.JPG\n\nimages/train/zebra/S3_F12_R11_IMAG0132.JPG\n\nimages/train/zebra/S3_F12_R11_IMAG0133.JPG\n\nimages/train/zebra/S3_F12_R11_IMAG0137.JPG\n\nimages/train/zebra/S3_F12_R11_IMAG0138.JPG\n\nimages/train/zebra/S3_H09_R12_IMAG0132.JPG\n\nimages/train/zebra/S3_H09_R12_IMAG0133.JPG\n\nimages/train/zebra/S3_H09_R12_IMAG0134.JPG\n\nimages/train/zebra/S3_H09_R12_IMAG0136.JPG\n\nimages/train/zebra/S3_H09_R12_IMAG0137.JPG\n\nimages/train/zebra/S3_H09_R12_IMAG0144.JPG\n\nimages/train/zebra/S3_H09_R12_IMAG0157.JPG\n\nimages/train/zebra/S3_H09_R12_IMAG0158.JPG\n\nimages/train/zebra/S3_H09_R12_IMAG0159.JPG\n\nimages/train/zebra/S3_P04_R11_IMAG0021.JPG\n\nimages/train/zebra/S3_P04_R11_IMAG0023.JPG\n\nimages/train/zebra/S3_P04_R11_IMAG0024.JPG\n\nimages/train/zebra/S3_P04_R11_IMAG0025.JPG\n\nimages/train/zebra/S3_P04_R11_IMAG0026.JPG\n\nimages/train/zebra/S3_P04_R11_IMAG0027.JPG\n\nimages/train/zebra/S3_P04_R11_IMAG0028.JPG\n\nimages/train/zebra/S4_E06_R2_IMAG0395.JPG\n\nimages/train/zebra/S4_E06_R2_IMAG0396.JPG\n\nimages/train/zebra/S4_E06_R2_IMAG0397.JPG\n\nimages/train/zebra/S4_E06_R2_IMAG0398.JPG\n\nimages/train/zebra/S4_F02_R1_IMAG0211.JPG\n\nimages/train/zebra/S4_F02_R1_IMAG0212.JPG\n\nimages/train/zebra/S4_F02_R1_IMAG0213.JPG\n\nimages/train/zebra/S4_F02_R1_IMAG0214.JPG\n\nimages/train/zebra/S4_F02_R1_IMAG0215.JPG\n\nimages/train/zebra/S4_F02_R1_IMAG0216.JPG\n\nimages/train/zebra/S4_F02_R1_IMAG0217.JPG\n\nimages/train/zebra/S5_B09_R3_IMAG0914.JPG\n\nimages/train/zebra/S5_B09_R3_IMAG0915.JPG\n\nimages/train/zebra/S5_B09_R3_IMAG0916.JPG\n\nimages/train/zebra/S5_B09_R3_IMAG0917.JPG\n\nimages/train/zebra/S5_B09_R3_IMAG0918.JPG\n\nimages/train/zebra/S5_B09_R3_IMAG0919.JPG\n\nimages/train/zebra/S5_B09_R3_IMAG0920.JPG\n\nimages/train/zebra/S5_B09_R3_IMAG0921.JPG\n\nimages/train/zebra/S5_B09_R3_IMAG0922.JPG\n\nimages/train/zebra/S5_B09_R3_IMAG0923.JPG\n\nimages/train/zebra/S5_B09_R3_IMAG0924.JPG\n\nimages/train/zebra/S5_B09_R3_IMAG0925.JPG\n\nimages/train/zebra/S5_B09_R3_IMAG0926.JPG\n\nimages/train/zebra/S5_B09_R3_IMAG0927.JPG\n\nimages/train/zebra/S5_B09_R3_IMAG0928.JPG\n\nimages/train/zebra/S5_B09_R3_IMAG0929.JPG\n\nimages/train/zebra/S5_B09_R3_IMAG0930.JPG\n\nimages/train/zebra/S5_B09_R3_IMAG0931.JPG\n\nimages/train/zebra/S5_B09_R3_IMAG0932.JPG\n\nimages/train/zebra/S5_B09_R3_IMAG0933.JPG\n\nimages/train/zebra/S5_B09_R3_IMAG0934.JPG\n\nimages/train/zebra/S5_B09_R3_IMAG0935.JPG\n\nimages/train/zebra/S5_B09_R3_IMAG0936.JPG\n\nimages/train/zebra/S5_B13_R3_IMAG2611.JPG\n\nimages/train/zebra/S5_B13_R3_IMAG2615.JPG\n\nimages/train/zebra/S5_B13_R3_IMAG2616.JPG\n\nimages/train/zebra/S5_B13_R3_IMAG2617.JPG\n\nimages/train/zebra/S5_B13_R3_IMAG2618.JPG\n\nimages/train/zebra/S5_B13_R3_IMAG2619.JPG\n\nimages/train/zebra/S5_B13_R3_IMAG2620.JPG\n\nimages/train/zebra/S5_B13_R3_IMAG2621.JPG\n\nimages/train/zebra/S5_B13_R3_IMAG2622.JPG\n\nimages/train/zebra/S5_B13_R3_IMAG2623.JPG\n\nimages/train/zebra/S5_B13_R3_IMAG2624.JPG\n\nimages/train/zebra/S5_B13_R3_IMAG2625.JPG\n\nimages/train/zebra/S5_C10_R1_IMAG1072.JPG\n\nimages/train/zebra/S5_C10_R1_IMAG1073.JPG\n\nimages/train/zebra/S5_C10_R1_IMAG1074.JPG\n\nimages/train/zebra/S5_C10_R1_IMAG1075.JPG\n\nimages/train/zebra/S5_C10_R1_IMAG1076.JPG\n\nimages/train/zebra/S5_C10_R1_IMAG1077.JPG\n\nimages/train/zebra/S5_C10_R1_IMAG1345.JPG\n\nimages/train/zebra/S5_C10_R1_IMAG1346.JPG\n\nimages/train/zebra/S5_C10_R1_IMAG1347.JPG\n\nimages/train/zebra/S5_C10_R1_IMAG1348.JPG\n\nimages/train/zebra/S5_C10_R1_IMAG1349.JPG\n\nimages/train/zebra/S5_C10_R1_IMAG1350.JPG\n\nimages/train/zebra/S5_C10_R1_IMAG1351.JPG\n\nimages/train/zebra/S5_C10_R1_IMAG1352.JPG\n\nimages/train/zebra/S5_C10_R1_IMAG1353.JPG\n\nimages/train/zebra/S5_C10_R1_IMAG1354.JPG\n\nimages/train/zebra/S5_C10_R1_IMAG1355.JPG\n\nimages/train/zebra/S5_C10_R1_IMAG1356.JPG\n\nimages/train/zebra/S5_C10_R1_IMAG1359.JPG\n\nimages/train/zebra/S5_T13_R4_IMAG1694.JPG\n\nimages/train/zebra/S5_T13_R4_IMAG1695.JPG\n\nimages/train/zebra/S5_T13_R4_IMAG1696.JPG\n\nimages/train/zebra/S5_T13_R4_IMAG1697.JPG\n\nimages/train/zebra/S5_T13_R4_IMAG1698.JPG\n\nimages/train/zebra/S5_T13_R4_IMAG1699.JPG\n\nimages/train/zebra/S5_T13_R4_IMAG1700.JPG\n\nimages/train/zebra/S5_T13_R4_IMAG1701.JPG\n\nimages/train/zebra/S5_T13_R4_IMAG1702.JPG\n\nimages/train/zebra/S5_T13_R4_IMAG1703.JPG\n\nimages/train/zebra/S5_T13_R4_IMAG1704.JPG\n\nimages/train/zebra/S5_T13_R4_IMAG1705.JPG\n\nimages/train/zebra/S6_B10_R2_IMAG0363.JPG\n\nimages/train/zebra/S6_B10_R2_IMAG0364.JPG\n\nimages/train/zebra/S6_B10_R2_IMAG0365.JPG\n\nimages/train/zebra/S6_B10_R2_IMAG0366.JPG\n\nimages/train/zebra/S6_B10_R2_IMAG0367.JPG\n\nimages/train/zebra/S6_B10_R2_IMAG0368.JPG\n\nimages/train/zebra/S6_B10_R2_IMAG0369.JPG\n\nimages/train/zebra/S6_B10_R2_IMAG0371.JPG\n\nimages/train/zebra/S6_B10_R2_IMAG0372.JPG\n\nimages/train/zebra/S6_B10_R2_IMAG0373.JPG\n\nimages/train/zebra/S6_B10_R2_IMAG0374.JPG\n\nimages/train/zebra/S6_B10_R2_IMAG0375.JPG\n\nimages/train/zebra/S6_B10_R2_IMAG0376.JPG\n\nimages/train/zebra/S6_B10_R2_IMAG0377.JPG\n\nimages/train/zebra/S6_B10_R2_IMAG0378.JPG\n\nimages/train/zebra/S6_B10_R2_IMAG0379.JPG\n\nimages/train/zebra/S6_B10_R2_IMAG0380.JPG\n\nimages/train/zebra/S6_B10_R2_IMAG0381.JPG\n\nimages/train/zebra/S6_B10_R2_IMAG0382.JPG\n\nimages/train/zebra/S6_B10_R2_IMAG0383.JPG\n\nimages/train/zebra/S6_B10_R2_IMAG0386.JPG\n\nimages/train/zebra/S6_B10_R2_IMAG0387.JPG\n\nimages/train/zebra/S6_B10_R2_IMAG0388.JPG\n\nimages/train/zebra/S6_S09_R1_IMAG1417.JPG\n\nimages/train/zebra/S6_S09_R1_IMAG1418.JPG\n\nimages/train/zebra/S7_H13_R3_IMAG4074.JPG\n\nimages/train/zebra/S7_H13_R3_IMAG4075.JPG\n\nimages/train/zebra/S7_H13_R3_IMAG4076.JPG\n\nimages/train/zebra/S7_H13_R3_IMAG4077.JPG\n\nimages/train/zebra/S7_H13_R3_IMAG4078.JPG\n\nimages/train/zebra/S7_H13_R3_IMAG4079.JPG\n\nimages/train/zebra/S7_H13_R3_IMAG4080.JPG\n\nimages/train/zebra/S7_N02_R3_IMAG0126.JPG\n\nimages/train/zebra/S7_N02_R3_IMAG0127.JPG\n\nimages/train/zebra/S7_N02_R3_IMAG0128.JPG\n\nimages/train/zebra/S7_N02_R3_IMAG0129.JPG\n\nimages/train/zebra/S7_N02_R3_IMAG0130.JPG\n\nimages/train/zebra/S7_N02_R3_IMAG0131.JPG\n\nimages/train/zebra/S7_N02_R3_IMAG0132.JPG\n\nimages/train/zebra/S8_O11_R1_IMAG0255.JPG\n\nimages/train/zebra/S8_O11_R1_IMAG0256.JPG\n\nimages/train/zebra/S8_O11_R1_IMAG0257.JPG\n\nimages/train/zebra/S8_O11_R1_IMAG0258.JPG\n\nimages/train/zebra/S8_O11_R1_IMAG0259.JPG\n\nimages/train/zebra/S8_O11_R1_IMAG0260.JPG\n\nimages/train/zebra/S8_O11_R1_IMAG0261.JPG\n\nimages/train/zebra/S8_O11_R1_IMAG0262.JPG\n\nimages/train/zebra/S8_O11_R1_IMAG0263.JPG\n\nimages/train/zebra/S8_O11_R1_IMAG0264.JPG\n\nimages/train/zebra/S8_O11_R1_IMAG0265.JPG\n\nimages/train/zebra/S8_O11_R1_IMAG0266.JPG\n\nimages/train/zebra/S8_O11_R1_IMAG0267.JPG\n\nimages/train/zebra/S8_O11_R1_IMAG0268.JPG\n\nimages/train/zebra/S8_O11_R1_IMAG0269.JPG\n\nimages/train/zebra/S8_O11_R1_IMAG0270.JPG\n\nimages/train/zebra/S8_O11_R1_IMAG0271.JPG\n\nimages/train/zebra/S8_O11_R1_IMAG0272.JPG\n\nimages/train/zebra/S8_O11_R1_IMAG0273.JPG\n\nimages/train/zebra/S8_O11_R1_IMAG0274.JPG\n\nimages/train/zebra/S8_O11_R1_IMAG0275.JPG\n\nimages/train/zebra/S9_C12_R3_IMAG0310.JPG\n\nimages/train/zebra/S9_C12_R3_IMAG0311.JPG\n\nimages/train/zebra/S9_C12_R3_IMAG0312.JPG\n\nimages/train/zebra/S9_C12_R3_IMAG0313.JPG\n\nimages/train/zebra/S9_C12_R3_IMAG0314.JPG\n\nimages/train/zebra/S9_C12_R3_IMAG0315.JPG\n\nimages/train/zebra/S9_C12_R3_IMAG0316.JPG\n\nimages/train/zebra/S9_C12_R3_IMAG0317.JPG\n\nimages/train/zebra/S9_C12_R3_IMAG0318.JPG\n\nimages/train/zebra/S9_C12_R3_IMAG0319.JPG\n\nimages/train/zebra/S9_C12_R3_IMAG0320.JPG\n\nimages/train/zebra/S9_C12_R3_IMAG0321.JPG\n\nimages/train/zebra/S9_C12_R3_IMAG0322.JPG\n\nimages/train/zebra/S9_C12_R3_IMAG0323.JPG\n\nimages/train/zebra/S9_C12_R3_IMAG0324.JPG\n\nimages/train/zebra/S9_C12_R3_IMAG0325.JPG\n\nimages/train/zebra/S9_C12_R3_IMAG0326.JPG\n\nimages/train/zebra/S9_C12_R3_IMAG0327.JPG\n\nimages/train/zebra/S9_C12_R3_IMAG0328.JPG\n\nimages/train/zebra/S9_C12_R3_IMAG0329.JPG\n\nimages/train/zebra/S9_C12_R3_IMAG0330.JPG\n\nimages/train/zebra/S9_F02_R1_IMAG0087.JPG\n\nimages/train/zebra/S9_O06_R3_IMAG0017.JPG\n\nimages/train/zebra/SER_S11_H02_R1_IMAG1266.JPG\n\nimages/train/zebra/SER_S11_H02_R1_IMAG1267.JPG\n\nimages/train/zebra/SER_S11_H02_R1_IMAG1268.JPG\n\nimages/train/zebra/SER_S11_H02_R1_IMAG1269.JPG\n\nimages/train/zebra/SER_S11_H02_R1_IMAG1270.JPG\n\nimages/train/zebra/SER_S11_H02_R1_IMAG1271.JPG\n\nimages/train/zebra/SER_S11_J02_R1_IMAG0327.JPG\n\nimages/train/zebra/SER_S11_J02_R1_IMAG0328.JPG\n\nimages/train/zebra/SER_S11_J02_R1_IMAG0329.JPG\n\n"
        }
      ],
      "execution_count": 4,
      "metadata": {
        "gather": {
          "logged": 1678706867947
        },
        "jupyter": {
          "outputs_hidden": false,
          "source_hidden": false
        },
        "nteract": {
          "transient": {
            "deleting": false
          }
        }
      }
    },
    {
      "cell_type": "code",
      "source": [
        "import azureml.core\n",
        "\n",
        "print(\"Azure ML SDK Version: \", azureml.core.VERSION)\n"
      ],
      "outputs": [
        {
          "output_type": "stream",
          "name": "stdout",
          "text": "Azure ML SDK Version:  1.48.0\n"
        }
      ],
      "execution_count": 5,
      "metadata": {
        "gather": {
          "logged": 1678706868110
        },
        "jupyter": {
          "outputs_hidden": false,
          "source_hidden": false
        },
        "nteract": {
          "transient": {
            "deleting": false
          }
        }
      }
    },
    {
      "cell_type": "code",
      "source": [
        "# Get Azure Machine Learning workspace\n",
        "ws = Workspace.from_config()\n",
        "\n",
        "# Get Azure Machine Learning run context\n",
        "run = Run.get_context()"
      ],
      "outputs": [],
      "execution_count": 6,
      "metadata": {
        "gather": {
          "logged": 1678706868421
        },
        "jupyter": {
          "outputs_hidden": false,
          "source_hidden": false
        },
        "nteract": {
          "transient": {
            "deleting": false
          }
        }
      }
    },
    {
      "cell_type": "code",
      "source": [
        "# Get the data folder location\n",
        "data_folder =  service_client.get_file_system_client(file_system=file_system_name)\n",
        "\n",
        "# Define transforms for the data\n",
        "train_transforms = transforms.Compose([\n",
        "    transforms.RandomResizedCrop(224),\n",
        "    transforms.RandomHorizontalFlip(),\n",
        "    transforms.ToTensor(),\n",
        "    transforms.Normalize(mean=[0.485, 0.456, 0.406], std=[0.229, 0.224, 0.225])\n",
        "])\n",
        "val_transforms = transforms.Compose([\n",
        "    transforms.Resize(256),\n",
        "    transforms.CenterCrop(224),\n",
        "    transforms.ToTensor(),\n",
        "    transforms.Normalize(mean=[0.485, 0.456, 0.406], std=[0.229, 0.224, 0.225])\n",
        "])"
      ],
      "outputs": [],
      "execution_count": 7,
      "metadata": {
        "gather": {
          "logged": 1678706868604
        },
        "jupyter": {
          "outputs_hidden": false,
          "source_hidden": false
        },
        "nteract": {
          "transient": {
            "deleting": false
          }
        }
      }
    },
    {
      "cell_type": "code",
      "source": [
        "# Create a job environment\n",
        "curated_env_name = \"azureml://registries/azureml/environments/AzureML-ACPT-pytorch-1.11-py38-cuda11.3-gpu/versions/11\"\n",
        "# curated_env_name = \"azureml://locations/westeurope/workspaces/37a5255b-7545-48d3-938e-76434a1ab7be/environments/serengeti/versions/1\""
      ],
      "outputs": [],
      "execution_count": 21,
      "metadata": {
        "gather": {
          "logged": 1678707584280
        },
        "jupyter": {
          "outputs_hidden": false,
          "source_hidden": false
        },
        "nteract": {
          "transient": {
            "deleting": false
          }
        }
      }
    },
    {
      "cell_type": "code",
      "source": [
        "job = command(\n",
        "    inputs=dict(\n",
        "        num_epochs=30, learning_rate=0.001, momentum=0.9, output_dir=\"./outputs\"\n",
        "    ),\n",
        "    compute=\"bethanyjep1\",\n",
        "    environment=curated_env_name,\n",
        "    code=\"./src\",  # location of source code\n",
        "    command=\"python pytorch_train.py --num_epochs ${{inputs.num_epochs}} --output_dir ${{inputs.output_dir}}\",\n",
        "    experiment_name=\"pytorch-serengeti\",\n",
        "    display_name=\"pytorch-serengeti-image\",\n",
        ")"
      ],
      "outputs": [],
      "execution_count": 22,
      "metadata": {
        "gather": {
          "logged": 1678707585442
        },
        "jupyter": {
          "outputs_hidden": false,
          "source_hidden": false
        },
        "nteract": {
          "transient": {
            "deleting": false
          }
        }
      }
    },
    {
      "cell_type": "code",
      "source": [
        "# Get a handle to the workspace\n",
        "# Handle to the workspace\n",
        "from azure.ai.ml import MLClient\n",
        "ml_client = MLClient(\n",
        "    credential=credential,\n",
        "    subscription_id=\"a1a27566-3e3c-42d7-a372-692095cd8521\",\n",
        "    resource_group_name=\"SerengetiDataLab\",\n",
        "    workspace_name=\"SerengetiAMLqezfaqkji2jnm\",\n",
        ")"
      ],
      "outputs": [],
      "execution_count": 23,
      "metadata": {
        "gather": {
          "logged": 1678707588261
        },
        "jupyter": {
          "outputs_hidden": false,
          "source_hidden": false
        },
        "nteract": {
          "transient": {
            "deleting": false
          }
        }
      }
    },
    {
      "cell_type": "code",
      "source": [
        "ml_client.jobs.create_or_update(job)"
      ],
      "outputs": [
        {
          "output_type": "execute_result",
          "execution_count": 24,
          "data": {
            "text/plain": "Command({'parameters': {}, 'init': False, 'type': 'command', 'status': 'Starting', 'log_files': None, 'name': 'jolly_leg_sybbh7g37y', 'description': None, 'tags': {}, 'properties': {'_azureml.ComputeTargetType': 'amlcdsi', 'ContentSnapshotId': 'c343a083-e62b-47d8-9f82-96f49fe0af17'}, 'id': '/subscriptions/a1a27566-3e3c-42d7-a372-692095cd8521/resourceGroups/SerengetiDataLab/providers/Microsoft.MachineLearningServices/workspaces/SerengetiAMLqezfaqkji2jnm/jobs/jolly_leg_sybbh7g37y', 'Resource__source_path': None, 'base_path': '/mnt/batch/tasks/shared/LS_root/mounts/clusters/bethanyjep1/code/Users/bethanycheum', 'creation_context': <azure.ai.ml.entities._system_data.SystemData object at 0x7f4072f622f0>, 'serialize': <msrest.serialization.Serializer object at 0x7f4072f62800>, 'allowed_keys': {}, 'key_restriction': False, 'logger': <Logger attr_dict (WARNING)>, 'display_name': 'pytorch-serengeti-image', 'experiment_name': 'pytorch-serengeti', 'compute': 'bethanyjep1', 'services': {'Tracking': <azure.ai.ml.entities._job.job_service.JobService object at 0x7f4072f62500>, 'Studio': <azure.ai.ml.entities._job.job_service.JobService object at 0x7f4072f62950>}, 'comment': None, 'job_inputs': {'num_epochs': '30', 'learning_rate': '0.001', 'momentum': '0.9', 'output_dir': './outputs'}, 'job_outputs': {'default': {'type': 'uri_folder', 'path': 'azureml://datastores/workspaceartifactstore/ExperimentRun/dcid.jolly_leg_sybbh7g37y', 'mode': 'rw_mount'}}, 'inputs': {'num_epochs': <azure.ai.ml.entities._job.pipeline._io.base.NodeInput object at 0x7f4072f627a0>, 'learning_rate': <azure.ai.ml.entities._job.pipeline._io.base.NodeInput object at 0x7f4072f62770>, 'momentum': <azure.ai.ml.entities._job.pipeline._io.base.NodeInput object at 0x7f4072f61e70>, 'output_dir': <azure.ai.ml.entities._job.pipeline._io.base.NodeInput object at 0x7f4072f61b10>}, 'outputs': {'default': <azure.ai.ml.entities._job.pipeline._io.base.NodeOutput object at 0x7f4072f62920>}, 'component': CommandComponent({'auto_increment_version': True, 'source': 'REMOTE.WORKSPACE.JOB', 'is_anonymous': False, 'name': 'jolly_leg_sybbh7g37y', 'description': None, 'tags': {}, 'properties': {}, 'id': None, 'Resource__source_path': None, 'base_path': PosixPath('.'), 'creation_context': <azure.ai.ml.entities._system_data.SystemData object at 0x7f4072f622f0>, 'serialize': <msrest.serialization.Serializer object at 0x7f4072f62590>, 'command': 'python pytorch_train.py --num_epochs ${{inputs.num_epochs}} --output_dir ${{inputs.output_dir}}', 'code': '/subscriptions/a1a27566-3e3c-42d7-a372-692095cd8521/resourceGroups/SerengetiDataLab/providers/Microsoft.MachineLearningServices/workspaces/SerengetiAMLqezfaqkji2jnm/codes/a34ac655-5066-4bc5-8b23-e384268c27c4/versions/1', 'environment_variables': {}, 'environment': 'azureml://registries/azureml/environments/AzureML-ACPT-pytorch-1.11-py38-cuda11.3-gpu/versions/11', 'distribution': None, 'resources': None, 'version': None, 'latest_version': None, 'schema': None, 'type': 'command', 'display_name': 'pytorch-serengeti-image', 'is_deterministic': True, 'inputs': {'num_epochs': {'type': 'string', 'default': '30'}, 'learning_rate': {'type': 'string', 'default': '0.001'}, 'momentum': {'type': 'string', 'default': '0.9'}, 'output_dir': {'type': 'string', 'default': './outputs'}}, 'outputs': {'default': {'type': 'uri_folder', 'path': 'azureml://datastores/workspaceartifactstore/ExperimentRun/dcid.jolly_leg_sybbh7g37y', 'mode': 'rw_mount'}}, 'yaml_str': None, 'other_parameter': {'status': 'Starting', 'parameters': {}}}), 'referenced_control_flow_node_instance_id': None, 'kwargs': {'services': {'Tracking': <azure.ai.ml.entities._job.job_service.JobService object at 0x7f4072f62500>, 'Studio': <azure.ai.ml.entities._job.job_service.JobService object at 0x7f4072f62950>}, 'status': 'Starting', 'creation_context': <azure.ai.ml.entities._system_data.SystemData object at 0x7f4072f622f0>}, 'instance_id': '68984159-e43f-40f8-b013-1d2d719f582d', 'source': 'BUILDER', 'validate_required_input_not_provided': True, 'limits': None, 'identity': None, 'distribution': None, 'environment_variables': {}, 'environment': 'azureml://registries/azureml/environments/AzureML-ACPT-pytorch-1.11-py38-cuda11.3-gpu/versions/11', 'resources': {'instance_count': 1, 'shm_size': '2g'}, 'swept': False})",
            "text/html": "<table style=\"width:100%\"><tr><th>Experiment</th><th>Name</th><th>Type</th><th>Status</th><th>Details Page</th></tr><tr><td>pytorch-serengeti</td><td>jolly_leg_sybbh7g37y</td><td>command</td><td>Starting</td><td><a href=\"https://ml.azure.com/runs/jolly_leg_sybbh7g37y?wsid=/subscriptions/a1a27566-3e3c-42d7-a372-692095cd8521/resourcegroups/SerengetiDataLab/workspaces/SerengetiAMLqezfaqkji2jnm&amp;tid=72f988bf-86f1-41af-91ab-2d7cd011db47\" target=\"_blank\" rel=\"noopener\">Link to Azure Machine Learning studio</a></td></tr></table>"
          },
          "metadata": {}
        }
      ],
      "execution_count": 24,
      "metadata": {
        "gather": {
          "logged": 1678707604418
        },
        "jupyter": {
          "outputs_hidden": false,
          "source_hidden": false
        },
        "nteract": {
          "transient": {
            "deleting": false
          }
        }
      }
    },
    {
      "cell_type": "code",
      "source": [
        "# tuning hyperparameters\n",
        "from azure.ai.ml.sweep import Uniform\n",
        "\n",
        "# we will reuse the command_job created before. we call it as a function so that we can apply inputs\n",
        "job_for_sweep = job(\n",
        "    learning_rate=Uniform(min_value=0.0005, max_value=0.005),\n",
        "    momentum=Uniform(min_value=0.9, max_value=0.99),\n",
        ")"
      ],
      "outputs": [],
      "execution_count": null,
      "metadata": {
        "gather": {
          "logged": 1678707137627
        },
        "jupyter": {
          "outputs_hidden": false,
          "source_hidden": false
        },
        "nteract": {
          "transient": {
            "deleting": false
          }
        }
      }
    },
    {
      "cell_type": "code",
      "source": [
        "from azure.ai.ml.entities import AmlCompute\n",
        "\n",
        "gpu_compute_taget = \"bethanyjep1\"\n"
      ],
      "outputs": [],
      "execution_count": null,
      "metadata": {
        "gather": {
          "logged": 1678707137645
        },
        "jupyter": {
          "outputs_hidden": false,
          "source_hidden": false
        },
        "nteract": {
          "transient": {
            "deleting": false
          }
        }
      }
    },
    {
      "cell_type": "code",
      "source": [
        "from azure.ai.ml.sweep import BanditPolicy\n",
        "\n",
        "sweep_job = job_for_sweep.sweep(\n",
        "    compute=\"bethanyjep1\",\n",
        "    sampling_algorithm=\"random\",\n",
        "    primary_metric=\"best_val_acc\",\n",
        "    goal=\"Maximize\",\n",
        "    max_total_trials=8,\n",
        "    max_concurrent_trials=4,\n",
        "    early_termination_policy=BanditPolicy(\n",
        "        slack_factor=0.15, evaluation_interval=1, delay_evaluation=10\n",
        "    ),\n",
        ")"
      ],
      "outputs": [],
      "execution_count": null,
      "metadata": {
        "gather": {
          "logged": 1678707137661
        },
        "jupyter": {
          "outputs_hidden": false,
          "source_hidden": false
        },
        "nteract": {
          "transient": {
            "deleting": false
          }
        }
      }
    },
    {
      "cell_type": "code",
      "source": [
        "returned_sweep_job = ml_client.create_or_update(sweep_job)\n",
        "\n",
        "# stream the output and wait until the job is finished\n",
        "ml_client.jobs.stream(returned_sweep_job.name)\n",
        "\n",
        "# refresh the latest status of the job after streaming\n",
        "returned_sweep_job = ml_client.jobs.get(name=returned_sweep_job.name)"
      ],
      "outputs": [],
      "execution_count": null,
      "metadata": {
        "gather": {
          "logged": 1678707137680
        },
        "jupyter": {
          "outputs_hidden": false,
          "source_hidden": false
        },
        "nteract": {
          "transient": {
            "deleting": false
          }
        }
      }
    },
    {
      "cell_type": "code",
      "source": [
        "from azure.ai.ml.entities import Model\n",
        "\n",
        "if returned_sweep_job.status == \"Completed\":\n",
        "\n",
        "    # First let us get the run which gave us the best result\n",
        "    best_run = returned_sweep_job.properties[\"best_child_run_id\"]\n",
        "\n",
        "    # lets get the model from this run\n",
        "    model = Model(\n",
        "        # the script stores the model as \"outputs\"\n",
        "        path=\"azureml://jobs/{}/outputs/artifacts/paths/outputs/\".format(best_run),\n",
        "        name=\"run-model-example\",\n",
        "        description=\"Model created from run.\",\n",
        "        type=\"custom_model\",\n",
        "    )\n",
        "\n",
        "else:\n",
        "    print(\n",
        "        \"Sweep job status: {}. Please wait until it completes\".format(\n",
        "            returned_sweep_job.status\n",
        "        )\n",
        "    )"
      ],
      "outputs": [],
      "execution_count": null,
      "metadata": {
        "gather": {
          "logged": 1678707110714
        },
        "jupyter": {
          "outputs_hidden": false,
          "source_hidden": false
        },
        "nteract": {
          "transient": {
            "deleting": false
          }
        }
      }
    },
    {
      "cell_type": "code",
      "source": [],
      "outputs": [],
      "execution_count": null,
      "metadata": {
        "jupyter": {
          "source_hidden": false,
          "outputs_hidden": false
        },
        "nteract": {
          "transient": {
            "deleting": false
          }
        }
      }
    }
  ],
  "metadata": {
    "kernel_info": {
      "name": "python310-sdkv2"
    },
    "kernelspec": {
      "name": "python310-sdkv2",
      "language": "python",
      "display_name": "Python 3.10 - SDK v2"
    },
    "language_info": {
      "name": "python",
      "version": "3.10.9",
      "mimetype": "text/x-python",
      "codemirror_mode": {
        "name": "ipython",
        "version": 3
      },
      "pygments_lexer": "ipython3",
      "nbconvert_exporter": "python",
      "file_extension": ".py"
    },
    "microsoft": {
      "host": {
        "AzureML": {
          "notebookHasBeenCompleted": true
        }
      },
      "ms_spell_check": {
        "ms_spell_check_language": "en"
      }
    },
    "nteract": {
      "version": "nteract-front-end@1.0.0"
    }
  },
  "nbformat": 4,
  "nbformat_minor": 2
}