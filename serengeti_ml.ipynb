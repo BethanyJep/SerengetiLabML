{
 "cells": [
  {
   "cell_type": "code",
   "execution_count": 1,
   "metadata": {},
   "outputs": [
    {
     "name": "stdout",
     "output_type": "stream",
     "text": [
      "Requirement already satisfied: azure-keyvault-secrets in /Users/josh/anaconda3/lib/python3.9/site-packages (4.6.0)\n",
      "Requirement already satisfied: msrest>=0.6.21 in /Users/josh/anaconda3/lib/python3.9/site-packages (from azure-keyvault-secrets) (0.7.1)\n",
      "Requirement already satisfied: azure-core<2.0.0,>=1.20.0 in /Users/josh/anaconda3/lib/python3.9/site-packages (from azure-keyvault-secrets) (1.26.3)\n",
      "Requirement already satisfied: six>=1.11.0 in /Users/josh/anaconda3/lib/python3.9/site-packages (from azure-keyvault-secrets) (1.16.0)\n",
      "Requirement already satisfied: azure-common~=1.1 in /Users/josh/anaconda3/lib/python3.9/site-packages (from azure-keyvault-secrets) (1.1.28)\n",
      "Requirement already satisfied: typing-extensions>=4.0.1 in /Users/josh/anaconda3/lib/python3.9/site-packages (from azure-core<2.0.0,>=1.20.0->azure-keyvault-secrets) (4.4.0)\n",
      "Requirement already satisfied: requests>=2.18.4 in /Users/josh/anaconda3/lib/python3.9/site-packages (from azure-core<2.0.0,>=1.20.0->azure-keyvault-secrets) (2.28.1)\n",
      "Requirement already satisfied: requests-oauthlib>=0.5.0 in /Users/josh/anaconda3/lib/python3.9/site-packages (from msrest>=0.6.21->azure-keyvault-secrets) (1.3.1)\n",
      "Requirement already satisfied: isodate>=0.6.0 in /Users/josh/anaconda3/lib/python3.9/site-packages (from msrest>=0.6.21->azure-keyvault-secrets) (0.6.1)\n",
      "Requirement already satisfied: certifi>=2017.4.17 in /Users/josh/anaconda3/lib/python3.9/site-packages (from msrest>=0.6.21->azure-keyvault-secrets) (2022.12.7)\n",
      "Requirement already satisfied: urllib3<1.27,>=1.21.1 in /Users/josh/anaconda3/lib/python3.9/site-packages (from requests>=2.18.4->azure-core<2.0.0,>=1.20.0->azure-keyvault-secrets) (1.26.14)\n",
      "Requirement already satisfied: idna<4,>=2.5 in /Users/josh/anaconda3/lib/python3.9/site-packages (from requests>=2.18.4->azure-core<2.0.0,>=1.20.0->azure-keyvault-secrets) (3.4)\n",
      "Requirement already satisfied: charset-normalizer<3,>=2 in /Users/josh/anaconda3/lib/python3.9/site-packages (from requests>=2.18.4->azure-core<2.0.0,>=1.20.0->azure-keyvault-secrets) (2.0.4)\n",
      "Requirement already satisfied: oauthlib>=3.0.0 in /Users/josh/anaconda3/lib/python3.9/site-packages (from requests-oauthlib>=0.5.0->msrest>=0.6.21->azure-keyvault-secrets) (3.2.2)\n",
      "Note: you may need to restart the kernel to use updated packages.\n",
      "Requirement already satisfied: azure-identity in /Users/josh/anaconda3/lib/python3.9/site-packages (1.12.0)\n",
      "Requirement already satisfied: azure-core<2.0.0,>=1.11.0 in /Users/josh/anaconda3/lib/python3.9/site-packages (from azure-identity) (1.26.3)\n",
      "Requirement already satisfied: msal<2.0.0,>=1.12.0 in /Users/josh/anaconda3/lib/python3.9/site-packages (from azure-identity) (1.21.0)\n",
      "Requirement already satisfied: msal-extensions<2.0.0,>=0.3.0 in /Users/josh/anaconda3/lib/python3.9/site-packages (from azure-identity) (1.0.0)\n",
      "Requirement already satisfied: six>=1.12.0 in /Users/josh/anaconda3/lib/python3.9/site-packages (from azure-identity) (1.16.0)\n",
      "Requirement already satisfied: cryptography>=2.5 in /Users/josh/anaconda3/lib/python3.9/site-packages (from azure-identity) (38.0.4)\n",
      "Requirement already satisfied: typing-extensions>=4.0.1 in /Users/josh/anaconda3/lib/python3.9/site-packages (from azure-core<2.0.0,>=1.11.0->azure-identity) (4.4.0)\n",
      "Requirement already satisfied: requests>=2.18.4 in /Users/josh/anaconda3/lib/python3.9/site-packages (from azure-core<2.0.0,>=1.11.0->azure-identity) (2.28.1)\n",
      "Requirement already satisfied: cffi>=1.12 in /Users/josh/anaconda3/lib/python3.9/site-packages (from cryptography>=2.5->azure-identity) (1.15.1)\n",
      "Requirement already satisfied: PyJWT[crypto]<3,>=1.0.0 in /Users/josh/anaconda3/lib/python3.9/site-packages (from msal<2.0.0,>=1.12.0->azure-identity) (2.4.0)\n",
      "Requirement already satisfied: portalocker<3,>=1.0 in /Users/josh/anaconda3/lib/python3.9/site-packages (from msal-extensions<2.0.0,>=0.3.0->azure-identity) (2.7.0)\n",
      "Requirement already satisfied: pycparser in /Users/josh/anaconda3/lib/python3.9/site-packages (from cffi>=1.12->cryptography>=2.5->azure-identity) (2.21)\n",
      "Requirement already satisfied: urllib3<1.27,>=1.21.1 in /Users/josh/anaconda3/lib/python3.9/site-packages (from requests>=2.18.4->azure-core<2.0.0,>=1.11.0->azure-identity) (1.26.14)\n",
      "Requirement already satisfied: certifi>=2017.4.17 in /Users/josh/anaconda3/lib/python3.9/site-packages (from requests>=2.18.4->azure-core<2.0.0,>=1.11.0->azure-identity) (2022.12.7)\n",
      "Requirement already satisfied: charset-normalizer<3,>=2 in /Users/josh/anaconda3/lib/python3.9/site-packages (from requests>=2.18.4->azure-core<2.0.0,>=1.11.0->azure-identity) (2.0.4)\n",
      "Requirement already satisfied: idna<4,>=2.5 in /Users/josh/anaconda3/lib/python3.9/site-packages (from requests>=2.18.4->azure-core<2.0.0,>=1.11.0->azure-identity) (3.4)\n",
      "Note: you may need to restart the kernel to use updated packages.\n"
     ]
    }
   ],
   "source": [
    "%pip install azure-keyvault-secrets\n",
    "%pip install azure-identity\n"
   ]
  },
  {
   "cell_type": "code",
   "execution_count": 2,
   "metadata": {},
   "outputs": [],
   "source": [
    "from azure.identity import DefaultAzureCredential\n",
    "from azure.keyvault.secrets import SecretClient"
   ]
  },
  {
   "cell_type": "code",
   "execution_count": 6,
   "metadata": {},
   "outputs": [],
   "source": [
    "key_vault_name = 'serengetikeyvaultoz7ss4f'\n",
    "key_vault_url = f'https://{key_vault_name}.vault.azure.net/'\n",
    "pool_conn_secret_name = 'DedicatedPool-odbc-ConnectionString'\n",
    "adls_conn_secret_name = 'ADLS-ConnectionString'\n",
    "\n",
    "credential = DefaultAzureCredential()\n",
    "secret_client = SecretClient(vault_url=key_vault_url, credential = credential)\n",
    "\n",
    "pool_connection_string = secret_client.get_secret(pool_conn_secret_name).value\n",
    "adls_connection_string = secret_client.get_secret(adls_conn_secret_name).value"
   ]
  },
  {
   "cell_type": "code",
   "execution_count": 7,
   "metadata": {},
   "outputs": [
    {
     "data": {
      "text/plain": [
       "'Driver={ODBC Driver 13 for SQL Server};Server=tcp:serengetidatalaboz7ss4fz.sql.azuresynapse.net,1433;Database=defdedicated;Uid=sqladminuser;Pwd=6?dighx8ERciqpnJ;Encrypt=yes;TrustServerCertificate=no;Connection Timeout=30;'"
      ]
     },
     "execution_count": 7,
     "metadata": {},
     "output_type": "execute_result"
    }
   ],
   "source": [
    "pool_connection_string"
   ]
  },
  {
   "cell_type": "code",
   "execution_count": 9,
   "metadata": {},
   "outputs": [
    {
     "ename": "Error",
     "evalue": "('01000', \"[01000] [unixODBC][Driver Manager]Can't open lib 'ODBC Driver 13 for SQL Server' : file not found (0) (SQLDriverConnect)\")",
     "output_type": "error",
     "traceback": [
      "\u001b[0;31m---------------------------------------------------------------------------\u001b[0m",
      "\u001b[0;31mError\u001b[0m                                     Traceback (most recent call last)",
      "Cell \u001b[0;32mIn[9], line 4\u001b[0m\n\u001b[1;32m      1\u001b[0m \u001b[39mimport\u001b[39;00m \u001b[39mpyodbc\u001b[39;00m\n\u001b[1;32m      3\u001b[0m \u001b[39m# connect to the pool\u001b[39;00m\n\u001b[0;32m----> 4\u001b[0m conn \u001b[39m=\u001b[39m pyodbc\u001b[39m.\u001b[39;49mconnect(pool_connection_string, autocommit\u001b[39m=\u001b[39;49m\u001b[39mTrue\u001b[39;49;00m)\n",
      "\u001b[0;31mError\u001b[0m: ('01000', \"[01000] [unixODBC][Driver Manager]Can't open lib 'ODBC Driver 13 for SQL Server' : file not found (0) (SQLDriverConnect)\")"
     ]
    }
   ],
   "source": [
    "import pyodbc\n",
    "\n",
    "# connect to the pool\n",
    "conn = pyodbc.connect(pool_connection_string, autocommit=True)\n"
   ]
  },
  {
   "cell_type": "code",
   "execution_count": null,
   "metadata": {},
   "outputs": [],
   "source": []
  }
 ],
 "metadata": {
  "kernelspec": {
   "display_name": "base",
   "language": "python",
   "name": "python3"
  },
  "language_info": {
   "codemirror_mode": {
    "name": "ipython",
    "version": 3
   },
   "file_extension": ".py",
   "mimetype": "text/x-python",
   "name": "python",
   "nbconvert_exporter": "python",
   "pygments_lexer": "ipython3",
   "version": "3.9.16"
  },
  "orig_nbformat": 4,
  "vscode": {
   "interpreter": {
    "hash": "6bb43d68d6e8f8891b6bbe8fb8f94fb12f9d6ae12662d2ea95d23bdd881b39c2"
   }
  }
 },
 "nbformat": 4,
 "nbformat_minor": 2
}
